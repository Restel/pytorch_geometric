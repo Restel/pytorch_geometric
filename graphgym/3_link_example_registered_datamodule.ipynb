{
 "cells": [
  {
   "cell_type": "code",
   "execution_count": 35,
   "metadata": {},
   "outputs": [
    {
     "name": "stderr",
     "output_type": "stream",
     "text": [
      "[autoreload of custom_graphgym.head.example failed: Traceback (most recent call last):\n",
      "  File \"/home/stu13/s18/lb9849/miniconda3/envs/pyg/lib/python3.9/site-packages/IPython/extensions/autoreload.py\", line 276, in check\n",
      "    superreload(m, reload, self.old_objects)\n",
      "  File \"/home/stu13/s18/lb9849/miniconda3/envs/pyg/lib/python3.9/site-packages/IPython/extensions/autoreload.py\", line 475, in superreload\n",
      "    module = reload(module)\n",
      "  File \"/home/stu13/s18/lb9849/miniconda3/envs/pyg/lib/python3.9/importlib/__init__.py\", line 169, in reload\n",
      "    _bootstrap._exec(spec, module)\n",
      "  File \"<frozen importlib._bootstrap>\", line 613, in _exec\n",
      "  File \"<frozen importlib._bootstrap_external>\", line 850, in exec_module\n",
      "  File \"<frozen importlib._bootstrap>\", line 228, in _call_with_frames_removed\n",
      "  File \"/home/stu13/s18/lb9849/BioCompute/pytorch_geometric/graphgym/custom_graphgym/head/example.py\", line 27, in <module>\n",
      "    class ExampleGNNEdgeHead(torch.nn.Module):\n",
      "  File \"/home/stu13/s18/lb9849/BioCompute/pytorch_geometric/torch_geometric/graphgym/register.py\", line 40, in bounded_register\n",
      "    register_base(mapping, key, module)\n",
      "  File \"/home/stu13/s18/lb9849/BioCompute/pytorch_geometric/torch_geometric/graphgym/register.py\", line 34, in register_base\n",
      "    raise KeyError(f\"Module with '{key}' already defined\")\n",
      "KeyError: \"Module with 'custom' already defined\"\n",
      "]\n"
     ]
    },
    {
     "name": "stdout",
     "output_type": "stream",
     "text": [
      "The autoreload extension is already loaded. To reload it, use:\n",
      "  %reload_ext autoreload\n"
     ]
    }
   ],
   "source": [
    "%load_ext autoreload\n",
    "%autoreload 2"
   ]
  },
  {
   "cell_type": "code",
   "execution_count": 36,
   "metadata": {},
   "outputs": [],
   "source": [
    "import logging\n",
    "import os\n",
    "import custom_graphgym  # noqa, register custom modules\n",
    "import torch\n",
    "from torch_geometric import seed_everything\n",
    "from torch_geometric.graphgym.cmd_args import parse_args\n",
    "from torch_geometric.graphgym.config import (\n",
    "    cfg,\n",
    "    dump_cfg,\n",
    "    load_cfg,\n",
    "    set_out_dir,\n",
    "    set_run_dir,\n",
    ")\n",
    "from torch_geometric.graphgym.logger import set_printing\n",
    "from torch_geometric.graphgym.model_builder import create_model\n",
    "from torch_geometric.graphgym.train import GraphGymDataModule, train\n",
    "from torch_geometric.graphgym.utils.agg_runs import agg_runs\n",
    "from torch_geometric.graphgym.utils.comp_budget import params_count\n",
    "from torch_geometric.graphgym.utils.device import auto_select_device"
   ]
  },
  {
   "cell_type": "code",
   "execution_count": 37,
   "metadata": {},
   "outputs": [],
   "source": [
    "from torch_geometric.graphgym import register"
   ]
  },
  {
   "cell_type": "code",
   "execution_count": 38,
   "metadata": {},
   "outputs": [
    {
     "data": {
      "text/plain": [
       "dict_keys(['node', 'link_pred', 'edge', 'graph', 'custom', 'example2', 'example_new_super_new'])"
      ]
     },
     "execution_count": 38,
     "metadata": {},
     "output_type": "execute_result"
    }
   ],
   "source": [
    "register.head_dict.keys()"
   ]
  },
  {
   "cell_type": "code",
   "execution_count": 39,
   "metadata": {},
   "outputs": [],
   "source": [
    "import argparse\n",
    "\n",
    "class NotebookArgParser:\n",
    "    def __init__(self, args_str):\n",
    "        self.args = self.parse_args(args_str)\n",
    "\n",
    "    def parse_args(self, args_str):\n",
    "        parser = argparse.ArgumentParser(description='GraphGym')\n",
    "\n",
    "        # Add command-line arguments\n",
    "        parser.add_argument('--cfg',\n",
    "                            dest='cfg_file',\n",
    "                            type=str,\n",
    "                            required=True,\n",
    "                            help='The configuration file path.')\n",
    "        parser.add_argument('--repeat',\n",
    "                            type=int,\n",
    "                            default=1,\n",
    "                            help='The number of repeated jobs.')\n",
    "        parser.add_argument('--mark_done',\n",
    "                            action='store_true',\n",
    "                            help='Mark yaml as done after a job has finished.')\n",
    "        parser.add_argument('opts',\n",
    "                            default=None,\n",
    "                            nargs=argparse.REMAINDER,\n",
    "                            help='See graphgym/config.py for remaining options.')\n",
    "\n",
    "        # Parse the command-line arguments\n",
    "        args = parser.parse_args(args_str)\n",
    "\n",
    "        return args"
   ]
  },
  {
   "cell_type": "code",
   "execution_count": 40,
   "metadata": {},
   "outputs": [
    {
     "data": {
      "text/plain": [
       "['--cfg', './configs/pyg/example_link_debug.yaml', '--repeat', '1']"
      ]
     },
     "execution_count": 40,
     "metadata": {},
     "output_type": "execute_result"
    }
   ],
   "source": [
    "# Emulate command-line arguments using input cells\n",
    "command = \"python main_pyg.py --cfg ./configs/pyg/example_link_debug.yaml --repeat 1\"\n",
    "args_str = command.split()[2:]\n",
    "args_str\n"
   ]
  },
  {
   "cell_type": "code",
   "execution_count": 41,
   "metadata": {},
   "outputs": [
    {
     "name": "stdout",
     "output_type": "stream",
     "text": [
      "Parsed Arguments:\n",
      "Configuration File: ./configs/pyg/example_link_debug.yaml\n",
      "Repeat: 1\n",
      "Mark Done: False\n",
      "Remaining Options: []\n"
     ]
    }
   ],
   "source": [
    "# Create a NotebookArgParser instance\n",
    "notebook_parser = NotebookArgParser(args_str)\n",
    "\n",
    "# Access parsed arguments\n",
    "args = notebook_parser.args\n",
    "print(\"Parsed Arguments:\")\n",
    "print(f\"Configuration File: {args.cfg_file}\")\n",
    "print(f\"Repeat: {args.repeat}\")\n",
    "print(f\"Mark Done: {args.mark_done}\")\n",
    "print(f\"Remaining Options: {args.opts}\")"
   ]
  },
  {
   "cell_type": "code",
   "execution_count": 42,
   "metadata": {},
   "outputs": [],
   "source": [
    "# Load config file\n",
    "load_cfg(cfg, args)\n",
    "#set_out_dir(cfg.out_dir, args.cfg_file)\n",
    "\n",
    "# Set Pytorch environment\n",
    "torch.set_num_threads(cfg.num_threads)\n",
    "dump_cfg(cfg)\n",
    "# Repeat for different random seeds"
   ]
  },
  {
   "cell_type": "code",
   "execution_count": 43,
   "metadata": {},
   "outputs": [
    {
     "data": {
      "text/plain": [
       "'results/link_predict_debug'"
      ]
     },
     "execution_count": 43,
     "metadata": {},
     "output_type": "execute_result"
    }
   ],
   "source": [
    "cfg.run_dir"
   ]
  },
  {
   "cell_type": "code",
   "execution_count": 44,
   "metadata": {},
   "outputs": [
    {
     "data": {
      "text/plain": [
       "'results/link_predict_debug'"
      ]
     },
     "execution_count": 44,
     "metadata": {},
     "output_type": "execute_result"
    }
   ],
   "source": [
    "cfg.out_dir"
   ]
  },
  {
   "cell_type": "code",
   "execution_count": 45,
   "metadata": {},
   "outputs": [],
   "source": [
    "set_run_dir(cfg.out_dir)\n",
    "set_printing()\n",
    "# Set configurations for each run\n",
    "cfg.seed = cfg.seed + 1\n",
    "seed_everything(cfg.seed)\n",
    "auto_select_device()\n",
    "# Set machine learning pipeline\n",
    "# Load the custom GraphGymDataModule"
   ]
  },
  {
   "cell_type": "code",
   "execution_count": 46,
   "metadata": {},
   "outputs": [
    {
     "name": "stdout",
     "output_type": "stream",
     "text": [
      "DOWNLOADING CUSTOM DATASET LOADER\n",
      "{'train': Data(x=[2708, 1433], edge_index=[2, 8448], edge_label=[8448], edge_label_index=[2, 8448]), 'test': Data(x=[2708, 1433], edge_index=[2, 9502], edge_label=[1054], edge_label_index=[2, 1054]), 'val': Data(x=[2708, 1433], edge_index=[2, 8448], edge_label=[1054], edge_label_index=[2, 1054])}\n"
     ]
    },
    {
     "name": "stderr",
     "output_type": "stream",
     "text": [
      "/home/stu13/s18/lb9849/BioCompute/pytorch_geometric/torch_geometric/data/in_memory_dataset.py:301: UserWarning: It is not recommended to directly access the internal storage format `data` of an 'InMemoryDataset'. If you are absolutely certain what you are doing, access the internal storage via `InMemoryDataset._data` instead to suppress this warning. Alternatively, you can access stacked individual attributes of every graph via `dataset.{attr_name}`.\n",
      "  warnings.warn(msg)\n"
     ]
    }
   ],
   "source": [
    "datamodule = register.train_dict[\"CustomGraphGymDataModule\"]()"
   ]
  },
  {
   "cell_type": "code",
   "execution_count": 47,
   "metadata": {},
   "outputs": [
    {
     "data": {
      "text/plain": [
       "LinkNeighborLoader()"
      ]
     },
     "execution_count": 47,
     "metadata": {},
     "output_type": "execute_result"
    }
   ],
   "source": [
    "datamodule._train_dataloader"
   ]
  },
  {
   "cell_type": "code",
   "execution_count": 48,
   "metadata": {},
   "outputs": [
    {
     "data": {
      "text/plain": [
       "10556"
      ]
     },
     "execution_count": 48,
     "metadata": {},
     "output_type": "execute_result"
    }
   ],
   "source": [
    "datamodule.dataset.num_edges"
   ]
  },
  {
   "cell_type": "code",
   "execution_count": 49,
   "metadata": {},
   "outputs": [],
   "source": [
    "cfg.train.batch_size = datamodule.dataset.num_edges"
   ]
  },
  {
   "cell_type": "code",
   "execution_count": 50,
   "metadata": {},
   "outputs": [
    {
     "name": "stdout",
     "output_type": "stream",
     "text": [
      "Data(x=[2705, 1433], edge_index=[2, 8448], edge_label=[8448], edge_label_index=[2, 8448], n_id=[2705], e_id=[8448], num_sampled_nodes=[2], num_sampled_edges=[1], input_id=[8448])\n"
     ]
    }
   ],
   "source": [
    "for b in datamodule._train_dataloader:\n",
    "    print(b)"
   ]
  },
  {
   "cell_type": "code",
   "execution_count": 51,
   "metadata": {},
   "outputs": [
    {
     "data": {
      "text/plain": [
       "1433"
      ]
     },
     "execution_count": 51,
     "metadata": {},
     "output_type": "execute_result"
    }
   ],
   "source": [
    "cfg.share.dim_in"
   ]
  },
  {
   "cell_type": "code",
   "execution_count": 52,
   "metadata": {},
   "outputs": [],
   "source": [
    "cfg.share.dim_out = 1 # TODO fix this bug, that happend in set_dataset_info because dataset._data.y might have node labels (not edge labels)"
   ]
  },
  {
   "cell_type": "code",
   "execution_count": 53,
   "metadata": {},
   "outputs": [
    {
     "name": "stdout",
     "output_type": "stream",
     "text": [
      "INITIALIZING CUSTOM EDGE HEAD\n"
     ]
    }
   ],
   "source": [
    "model=create_model()"
   ]
  },
  {
   "cell_type": "code",
   "execution_count": 54,
   "metadata": {},
   "outputs": [
    {
     "data": {
      "text/plain": [
       "dict_keys(['example'])"
      ]
     },
     "execution_count": 54,
     "metadata": {},
     "output_type": "execute_result"
    }
   ],
   "source": [
    "register.loader_dict.keys()"
   ]
  },
  {
   "cell_type": "code",
   "execution_count": 55,
   "metadata": {},
   "outputs": [
    {
     "data": {
      "text/plain": [
       "custom_graphgym.head.example.ExampleGNNEdgeHead"
      ]
     },
     "execution_count": 55,
     "metadata": {},
     "output_type": "execute_result"
    }
   ],
   "source": [
    "register.head_dict['custom']"
   ]
  },
  {
   "cell_type": "code",
   "execution_count": 56,
   "metadata": {},
   "outputs": [
    {
     "name": "stdout",
     "output_type": "stream",
     "text": [
      "INITIALIZING CUSTOM EDGE HEAD\n",
      "GraphGymModule(\n",
      "  (model): GNN(\n",
      "    (encoder): FeatureEncoder()\n",
      "    (pre_mp): GeneralMultiLayer(\n",
      "      (Layer_0): GeneralLayer(\n",
      "        (layer): Linear(\n",
      "          (model): Linear(1433, 64, bias=True)\n",
      "        )\n",
      "        (post_layer): Sequential(\n",
      "          (0): ReLU()\n",
      "        )\n",
      "      )\n",
      "    )\n",
      "    (mp): GNNStackStage(\n",
      "      (layer0): GeneralLayer(\n",
      "        (layer): GCNConv(\n",
      "          (model): GCNConv(64, 64)\n",
      "        )\n",
      "        (post_layer): Sequential(\n",
      "          (0): ReLU()\n",
      "        )\n",
      "      )\n",
      "      (layer1): GeneralLayer(\n",
      "        (layer): GCNConv(\n",
      "          (model): GCNConv(64, 64)\n",
      "        )\n",
      "        (post_layer): Sequential(\n",
      "          (0): ReLU()\n",
      "        )\n",
      "      )\n",
      "    )\n",
      "    (post_mp): ExampleGNNEdgeHead(\n",
      "      (layer_post_mp): MLP(\n",
      "        (model): Sequential(\n",
      "          (0): Linear(\n",
      "            (model): Linear(64, 64, bias=True)\n",
      "          )\n",
      "        )\n",
      "      )\n",
      "    )\n",
      "  )\n",
      ")\n",
      "accelerator: cpu\n",
      "benchmark: False\n",
      "bn:\n",
      "  eps: 1e-05\n",
      "  mom: 0.1\n",
      "cfg_dest: config.yaml\n",
      "custom_metrics: []\n",
      "dataset:\n",
      "  cache_load: False\n",
      "  cache_save: False\n",
      "  dir: ./datasets\n",
      "  edge_dim: 128\n",
      "  edge_encoder: False\n",
      "  edge_encoder_bn: True\n",
      "  edge_encoder_name: Bond\n",
      "  edge_message_ratio: 0.8\n",
      "  edge_negative_sampling_ratio: 1.0\n",
      "  edge_train_mode: all\n",
      "  encoder: True\n",
      "  encoder_bn: True\n",
      "  encoder_dim: 128\n",
      "  encoder_name: db\n",
      "  format: PyG\n",
      "  label_column: none\n",
      "  label_table: none\n",
      "  location: local\n",
      "  name: Cora\n",
      "  node_encoder: False\n",
      "  node_encoder_bn: True\n",
      "  node_encoder_name: Atom\n",
      "  remove_feature: False\n",
      "  resample_disjoint: False\n",
      "  resample_negative: False\n",
      "  shuffle_split: True\n",
      "  split: [0.8, 0.1, 0.1]\n",
      "  split_mode: random\n",
      "  task: link_pred\n",
      "  task_type: classification\n",
      "  to_undirected: False\n",
      "  transductive: True\n",
      "  transform: none\n",
      "  tu_simple: True\n",
      "devices: 1\n",
      "gnn:\n",
      "  act: relu\n",
      "  agg: mean\n",
      "  att_final_linear: False\n",
      "  att_final_linear_bn: False\n",
      "  att_heads: 1\n",
      "  batchnorm: False\n",
      "  clear_feature: True\n",
      "  dim_inner: 64\n",
      "  dropout: 0.0\n",
      "  head: custom\n",
      "  keep_edge: 0.5\n",
      "  l2norm: True\n",
      "  layer_type: gcnconv\n",
      "  layers_mp: 2\n",
      "  layers_post_mp: 1\n",
      "  layers_pre_mp: 1\n",
      "  msg_direction: single\n",
      "  normalize_adj: False\n",
      "  self_msg: concat\n",
      "  skip_every: 1\n",
      "  stage_type: stack\n",
      "gpu_mem: False\n",
      "mem:\n",
      "  inplace: False\n",
      "metric_agg: argmax\n",
      "metric_best: auto\n",
      "model:\n",
      "  edge_decoding: dot\n",
      "  graph_pooling: add\n",
      "  loss_fun: cross_entropy\n",
      "  match_upper: True\n",
      "  size_average: mean\n",
      "  thresh: 0.5\n",
      "  type: gnn\n",
      "num_threads: 6\n",
      "num_workers: 0\n",
      "optim:\n",
      "  base_lr: 0.01\n",
      "  lr_decay: 0.1\n",
      "  max_epoch: 200\n",
      "  momentum: 0.9\n",
      "  optimizer: adam\n",
      "  scheduler: cos\n",
      "  steps: [30, 60, 90]\n",
      "  weight_decay: 0.0005\n",
      "out_dir: results/link_predict_debug\n",
      "params: 104256\n",
      "print: both\n",
      "round: 4\n",
      "run_dir: results/link_predict_debug/1\n",
      "seed: 2\n",
      "share:\n",
      "  dim_in: 1433\n",
      "  dim_out: 1\n",
      "  num_splits: 1\n",
      "tensorboard_agg: True\n",
      "tensorboard_each_run: True\n",
      "train:\n",
      "  auto_resume: False\n",
      "  batch_size: 10556\n",
      "  ckpt_clean: True\n",
      "  ckpt_period: 100\n",
      "  enable_ckpt: True\n",
      "  epoch_resume: -1\n",
      "  eval_period: 1\n",
      "  iter_per_epoch: 32\n",
      "  neighbor_sizes: [20, 15, 10, 5]\n",
      "  node_per_graph: 32\n",
      "  radius: extend\n",
      "  sample_node: False\n",
      "  sampler: full_batch\n",
      "  skip_train_eval: False\n",
      "  walk_length: 4\n",
      "val:\n",
      "  node_per_graph: 32\n",
      "  radius: extend\n",
      "  sample_node: False\n",
      "  sampler: full_batch\n",
      "view_emb: False\n",
      "Num parameters: 104256\n"
     ]
    }
   ],
   "source": [
    "model = create_model()\n",
    "# Print model infos\n",
    "logging.info(model)\n",
    "logging.info(cfg)\n",
    "cfg.params = params_count(model)\n",
    "logging.info(\"Num parameters: %s\", cfg.params)"
   ]
  },
  {
   "cell_type": "code",
   "execution_count": 57,
   "metadata": {},
   "outputs": [],
   "source": [
    "cfg.accelerator = 'cpu'\n",
    "cfg.devices = 1"
   ]
  },
  {
   "cell_type": "code",
   "execution_count": 58,
   "metadata": {},
   "outputs": [],
   "source": [
    "# for b in datamodule.train_dataloader():\n",
    "#     print(b)\n"
   ]
  },
  {
   "cell_type": "code",
   "execution_count": 59,
   "metadata": {},
   "outputs": [],
   "source": [
    "# b = next(iter(datamodule.test_dataloader()))"
   ]
  },
  {
   "cell_type": "code",
   "execution_count": 60,
   "metadata": {},
   "outputs": [],
   "source": [
    "# from torch_geometric.loader import LinkNeighborLoader\n",
    "\n",
    "# lb = LinkNeighborLoader(data=datamodule.splits['train'],\n",
    "#             num_neighbors=[-1],\n",
    "#             batch_size=8448,\n",
    "#             edge_label_index= datamodule.splits['train'].edge_label_index,\n",
    "#             edge_label= datamodule.splits['train'].edge_label,\n",
    "#             shuffle=True,\n",
    "#             num_workers=cfg.num_workers,\n",
    "#             pin_memory=True\n",
    "#         )"
   ]
  },
  {
   "cell_type": "code",
   "execution_count": 61,
   "metadata": {},
   "outputs": [],
   "source": [
    "# for b in lb:\n",
    "#     print(b)"
   ]
  },
  {
   "cell_type": "code",
   "execution_count": 62,
   "metadata": {},
   "outputs": [],
   "source": [
    "# datamodule.splits['test'].edge_label"
   ]
  },
  {
   "cell_type": "code",
   "execution_count": 63,
   "metadata": {},
   "outputs": [],
   "source": [
    "cfg.share.num_splits = 3 # TODO fixx thisss!"
   ]
  },
  {
   "cell_type": "code",
   "execution_count": 64,
   "metadata": {},
   "outputs": [
    {
     "data": {
      "text/plain": [
       "'classification'"
      ]
     },
     "execution_count": 64,
     "metadata": {},
     "output_type": "execute_result"
    }
   ],
   "source": [
    "cfg.dataset.task_type"
   ]
  },
  {
   "cell_type": "code",
   "execution_count": 65,
   "metadata": {},
   "outputs": [
    {
     "data": {
      "text/plain": [
       "[]"
      ]
     },
     "execution_count": 65,
     "metadata": {},
     "output_type": "execute_result"
    }
   ],
   "source": [
    "cfg.custom_metrics"
   ]
  },
  {
   "cell_type": "code",
   "execution_count": 66,
   "metadata": {},
   "outputs": [
    {
     "data": {
      "text/plain": [
       "dict_keys(['node', 'link_pred', 'edge', 'graph', 'custom', 'example2', 'example_new_super_new'])"
      ]
     },
     "execution_count": 66,
     "metadata": {},
     "output_type": "execute_result"
    }
   ],
   "source": [
    "register.head_dict.keys()"
   ]
  },
  {
   "cell_type": "code",
   "execution_count": 33,
   "metadata": {},
   "outputs": [
    {
     "data": {
      "text/plain": [
       "dict_keys(['CustomGraphGymDataModule', 'train_pl', 'example'])"
      ]
     },
     "execution_count": 33,
     "metadata": {},
     "output_type": "execute_result"
    }
   ],
   "source": [
    "register.train_dict.keys()"
   ]
  },
  {
   "cell_type": "code",
   "execution_count": 34,
   "metadata": {},
   "outputs": [
    {
     "name": "stderr",
     "output_type": "stream",
     "text": [
      "GPU available: True (cuda), used: False\n",
      "TPU available: False, using: 0 TPU cores\n",
      "IPU available: False, using: 0 IPUs\n",
      "HPU available: False, using: 0 HPUs\n",
      "/home/stu13/s18/lb9849/miniconda3/envs/pyg/lib/python3.9/site-packages/pytorch_lightning/trainer/setup.py:187: GPU available but not used. You can set it by doing `Trainer(accelerator='gpu')`.\n",
      "Missing logger folder: results/link_predict_debug/lightning_logs\n",
      "\n",
      "  | Name  | Type | Params\n",
      "-------------------------------\n",
      "0 | model | GNN  | 104 K \n",
      "-------------------------------\n",
      "104 K     Trainable params\n",
      "0         Non-trainable params\n",
      "104 K     Total params\n",
      "0.417     Total estimated model params size (MB)\n"
     ]
    },
    {
     "name": "stdout",
     "output_type": "stream",
     "text": [
      "Sanity Checking DataLoader 0: 100%|██████████| 1/1 [00:00<00:00, 98.99it/s]"
     ]
    },
    {
     "name": "stderr",
     "output_type": "stream",
     "text": [
      "/home/stu13/s18/lb9849/miniconda3/envs/pyg/lib/python3.9/site-packages/pytorch_lightning/trainer/connectors/data_connector.py:441: The 'val_dataloader' does not have many workers which may be a bottleneck. Consider increasing the value of the `num_workers` argument` to `num_workers=47` in the `DataLoader` to improve performance.\n"
     ]
    },
    {
     "name": "stdout",
     "output_type": "stream",
     "text": [
      "val: {'epoch': 0, 'loss': 0.7329, 'lr': 0.01, 'params': 104256, 'time_iter': 0.0262, 'accuracy': 0.5, 'precision': 0.5, 'recall': 1.0, 'f1': 0.6667, 'auc': 0.6768}\n",
      "                                                                           "
     ]
    },
    {
     "name": "stderr",
     "output_type": "stream",
     "text": [
      "/home/stu13/s18/lb9849/miniconda3/envs/pyg/lib/python3.9/site-packages/pytorch_lightning/trainer/connectors/data_connector.py:441: The 'train_dataloader' does not have many workers which may be a bottleneck. Consider increasing the value of the `num_workers` argument` to `num_workers=47` in the `DataLoader` to improve performance.\n",
      "/home/stu13/s18/lb9849/miniconda3/envs/pyg/lib/python3.9/site-packages/pytorch_lightning/loops/fit_loop.py:298: The number of training batches (1) is smaller than the logging interval Trainer(log_every_n_steps=50). Set a lower value for log_every_n_steps if you want to see logs for the training epoch.\n"
     ]
    },
    {
     "name": "stdout",
     "output_type": "stream",
     "text": [
      "Epoch 0: 100%|██████████| 1/1 [00:00<00:00, 24.01it/s, v_num=0]val: {'epoch': 0, 'loss': 0.7081, 'lr': 0.01, 'params': 104256, 'time_iter': 0.0174, 'accuracy': 0.5, 'precision': 0.5, 'recall': 1.0, 'f1': 0.6667, 'auc': 0.6032}\n",
      "Epoch 0: 100%|██████████| 1/1 [00:00<00:00,  6.51it/s, v_num=0]train: {'epoch': 0, 'eta': 8.0148, 'loss': 0.7275, 'lr': 0.01, 'params': 104256, 'time_iter': 0.0403, 'accuracy': 0.5, 'precision': 0.5, 'recall': 1.0, 'f1': 0.6667, 'auc': 0.8743}\n",
      "Epoch 1: 100%|██████████| 1/1 [00:00<00:00, 23.83it/s, v_num=0]val: {'epoch': 1, 'loss': 0.6953, 'lr': 0.01, 'params': 104256, 'time_iter': 0.0168, 'accuracy': 0.5, 'precision': 0.5, 'recall': 1.0, 'f1': 0.6667, 'auc': 0.6443}\n",
      "Epoch 1: 100%|██████████| 1/1 [00:00<00:00,  9.49it/s, v_num=0]train: {'epoch': 1, 'eta': 8.0053, 'loss': 0.7071, 'lr': 0.01, 'params': 104256, 'time_iter': 0.0406, 'accuracy': 0.5, 'precision': 0.5, 'recall': 1.0, 'f1': 0.6667, 'auc': 0.7257}\n",
      "Epoch 2: 100%|██████████| 1/1 [00:00<00:00, 25.47it/s, v_num=0]val: {'epoch': 2, 'loss': 0.6948, 'lr': 0.01, 'params': 104256, 'time_iter': 0.0161, 'accuracy': 0.5, 'precision': 0.5, 'recall': 1.0, 'f1': 0.6667, 'auc': 0.5964}\n",
      "Epoch 2: 100%|██████████| 1/1 [00:00<00:00,  9.93it/s, v_num=0]train: {'epoch': 2, 'eta': 7.8007, 'loss': 0.6949, 'lr': 0.01, 'params': 104256, 'time_iter': 0.0379, 'accuracy': 0.5, 'precision': 0.5, 'recall': 1.0, 'f1': 0.6667, 'auc': 0.7071}\n",
      "Epoch 3: 100%|██████████| 1/1 [00:00<00:00, 24.99it/s, v_num=0]val: {'epoch': 3, 'loss': 0.6945, 'lr': 0.01, 'params': 104256, 'time_iter': 0.0177, 'accuracy': 0.5, 'precision': 0.5, 'recall': 1.0, 'f1': 0.6667, 'auc': 0.6382}\n",
      "Epoch 3: 100%|██████████| 1/1 [00:00<00:00,  6.50it/s, v_num=0]train: {'epoch': 3, 'eta': 7.7185, 'loss': 0.6946, 'lr': 0.01, 'params': 104256, 'time_iter': 0.0387, 'accuracy': 0.5, 'precision': 0.5, 'recall': 1.0, 'f1': 0.6667, 'auc': 0.6399}\n",
      "Epoch 4: 100%|██████████| 1/1 [00:00<00:00, 25.33it/s, v_num=0]val: {'epoch': 4, 'loss': 0.6939, 'lr': 0.01, 'params': 104256, 'time_iter': 0.0167, 'accuracy': 0.5, 'precision': 0.5, 'recall': 1.0, 'f1': 0.6667, 'auc': 0.7272}\n",
      "Epoch 4: 100%|██████████| 1/1 [00:00<00:00,  9.17it/s, v_num=0]train: {'epoch': 4, 'eta': 7.6308, 'loss': 0.6943, 'lr': 0.01, 'params': 104256, 'time_iter': 0.0381, 'accuracy': 0.5, 'precision': 0.5, 'recall': 1.0, 'f1': 0.6667, 'auc': 0.6932}\n",
      "Epoch 5: 100%|██████████| 1/1 [00:00<00:00, 25.30it/s, v_num=0]val: {'epoch': 5, 'loss': 0.6933, 'lr': 0.01, 'params': 104256, 'time_iter': 0.0163, 'accuracy': 0.5, 'precision': 0.5, 'recall': 1.0, 'f1': 0.6667, 'auc': 0.7767}\n",
      "Epoch 5: 100%|██████████| 1/1 [00:00<00:00,  9.45it/s, v_num=0]train: {'epoch': 5, 'eta': 7.5614, 'loss': 0.6936, 'lr': 0.01, 'params': 104256, 'time_iter': 0.0382, 'accuracy': 0.5, 'precision': 0.5, 'recall': 1.0, 'f1': 0.6667, 'auc': 0.7976}\n",
      "Epoch 6: 100%|██████████| 1/1 [00:00<00:00, 25.40it/s, v_num=0]val: {'epoch': 6, 'loss': 0.6928, 'lr': 0.01, 'params': 104256, 'time_iter': 0.0164, 'accuracy': 0.5, 'precision': 0.5, 'recall': 1.0, 'f1': 0.6667, 'auc': 0.7919}\n",
      "Epoch 6: 100%|██████████| 1/1 [00:00<00:00,  9.06it/s, v_num=0]train: {'epoch': 6, 'eta': 7.4964, 'loss': 0.693, 'lr': 0.01, 'params': 104256, 'time_iter': 0.038, 'accuracy': 0.5, 'precision': 0.5, 'recall': 1.0, 'f1': 0.6667, 'auc': 0.8553}\n",
      "Epoch 7: 100%|██████████| 1/1 [00:00<00:00, 23.93it/s, v_num=0]val: {'epoch': 7, 'loss': 0.6922, 'lr': 0.01, 'params': 104256, 'time_iter': 0.0169, 'accuracy': 0.5, 'precision': 0.5, 'recall': 1.0, 'f1': 0.6667, 'auc': 0.7828}\n",
      "Epoch 7: 100%|██████████| 1/1 [00:00<00:00,  8.96it/s, v_num=0]train: {'epoch': 7, 'eta': 7.4964, 'loss': 0.6924, 'lr': 0.01, 'params': 104256, 'time_iter': 0.0405, 'accuracy': 0.5, 'precision': 0.5, 'recall': 1.0, 'f1': 0.6667, 'auc': 0.8618}\n",
      "Epoch 8: 100%|██████████| 1/1 [00:00<00:00, 25.73it/s, v_num=0]val: {'epoch': 8, 'loss': 0.6914, 'lr': 0.01, 'params': 104256, 'time_iter': 0.0165, 'accuracy': 0.5, 'precision': 0.5, 'recall': 1.0, 'f1': 0.6667, 'auc': 0.7602}\n",
      "Epoch 8: 100%|██████████| 1/1 [00:00<00:00,  7.82it/s, v_num=0]train: {'epoch': 8, 'eta': 7.4252, 'loss': 0.6918, 'lr': 0.01, 'params': 104256, 'time_iter': 0.0375, 'accuracy': 0.5, 'precision': 0.5, 'recall': 1.0, 'f1': 0.6667, 'auc': 0.8407}\n",
      "Epoch 9: 100%|██████████| 1/1 [00:00<00:00, 25.13it/s, v_num=0]val: {'epoch': 9, 'loss': 0.6902, 'lr': 0.0099, 'params': 104256, 'time_iter': 0.0166, 'accuracy': 0.5, 'precision': 0.5, 'recall': 1.0, 'f1': 0.6667, 'auc': 0.743}\n",
      "Epoch 9: 100%|██████████| 1/1 [00:00<00:00,  9.17it/s, v_num=0]train: {'epoch': 9, 'eta': 7.3786, 'loss': 0.6909, 'lr': 0.0099, 'params': 104256, 'time_iter': 0.0385, 'accuracy': 0.5, 'precision': 0.5, 'recall': 1.0, 'f1': 0.6667, 'auc': 0.8072}\n",
      "Epoch 10: 100%|██████████| 1/1 [00:00<00:00, 23.64it/s, v_num=0]val: {'epoch': 10, 'loss': 0.6879, 'lr': 0.0099, 'params': 104256, 'time_iter': 0.0167, 'accuracy': 0.5, 'precision': 0.5, 'recall': 1.0, 'f1': 0.6667, 'auc': 0.7405}\n",
      "Epoch 10: 100%|██████████| 1/1 [00:00<00:00,  9.23it/s, v_num=0]train: {'epoch': 10, 'eta': 7.3768, 'loss': 0.6894, 'lr': 0.0099, 'params': 104256, 'time_iter': 0.041, 'accuracy': 0.5, 'precision': 0.5, 'recall': 1.0, 'f1': 0.6667, 'auc': 0.7842}\n",
      "Epoch 11: 100%|██████████| 1/1 [00:00<00:00, 24.75it/s, v_num=0]val: {'epoch': 11, 'loss': 0.6832, 'lr': 0.0099, 'params': 104256, 'time_iter': 0.016, 'accuracy': 0.5218, 'precision': 0.5112, 'recall': 1.0, 'f1': 0.6765, 'auc': 0.7515}\n",
      "Epoch 11: 100%|██████████| 1/1 [00:00<00:00,  9.79it/s, v_num=0]train: {'epoch': 11, 'eta': 7.3384, 'loss': 0.6866, 'lr': 0.0099, 'params': 104256, 'time_iter': 0.0391, 'accuracy': 0.5, 'precision': 0.5, 'recall': 1.0, 'f1': 0.6667, 'auc': 0.7795}\n",
      "Epoch 12: 100%|██████████| 1/1 [00:00<00:00, 24.92it/s, v_num=0]val: {'epoch': 12, 'loss': 0.6734, 'lr': 0.0099, 'params': 104256, 'time_iter': 0.0168, 'accuracy': 0.592, 'precision': 0.5509, 'recall': 0.9962, 'f1': 0.7095, 'auc': 0.7674}\n",
      "Epoch 12: 100%|██████████| 1/1 [00:00<00:00,  9.58it/s, v_num=0]train: {'epoch': 12, 'eta': 7.2963, 'loss': 0.6809, 'lr': 0.0099, 'params': 104256, 'time_iter': 0.0388, 'accuracy': 0.5208, 'precision': 0.5106, 'recall': 1.0, 'f1': 0.6761, 'auc': 0.7894}\n",
      "Epoch 13: 100%|██████████| 1/1 [00:00<00:00, 26.15it/s, v_num=0]val: {'epoch': 13, 'loss': 0.6553, 'lr': 0.0099, 'params': 104256, 'time_iter': 0.0158, 'accuracy': 0.6613, 'precision': 0.6002, 'recall': 0.9658, 'f1': 0.7404, 'auc': 0.7694}\n",
      "Epoch 13: 100%|██████████| 1/1 [00:00<00:00, 10.36it/s, v_num=0]train: {'epoch': 13, 'eta': 7.229, 'loss': 0.6692, 'lr': 0.0099, 'params': 104256, 'time_iter': 0.0369, 'accuracy': 0.5971, 'precision': 0.5538, 'recall': 0.9993, 'f1': 0.7126, 'auc': 0.8073}\n",
      "Epoch 14: 100%|██████████| 1/1 [00:00<00:00, 23.91it/s, v_num=0]val: {'epoch': 14, 'loss': 0.633, 'lr': 0.0099, 'params': 104256, 'time_iter': 0.0163, 'accuracy': 0.686, 'precision': 0.6279, 'recall': 0.9127, 'f1': 0.744, 'auc': 0.7602}\n",
      "Epoch 14: 100%|██████████| 1/1 [00:00<00:00,  9.16it/s, v_num=0]train: {'epoch': 14, 'eta': 7.2084, 'loss': 0.6469, 'lr': 0.0099, 'params': 104256, 'time_iter': 0.0403, 'accuracy': 0.6765, 'precision': 0.6081, 'recall': 0.9929, 'f1': 0.7542, 'auc': 0.8158}\n",
      "Epoch 15: 100%|██████████| 1/1 [00:00<00:00, 25.07it/s, v_num=0]val: {'epoch': 15, 'loss': 0.6178, 'lr': 0.0098, 'params': 104256, 'time_iter': 0.0161, 'accuracy': 0.6888, 'precision': 0.6361, 'recall': 0.8824, 'f1': 0.7393, 'auc': 0.7559}\n",
      "Epoch 15: 100%|██████████| 1/1 [00:00<00:00,  9.53it/s, v_num=0]train: {'epoch': 15, 'eta': 7.1643, 'loss': 0.6164, 'lr': 0.0098, 'params': 104256, 'time_iter': 0.0385, 'accuracy': 0.718, 'precision': 0.6429, 'recall': 0.9811, 'f1': 0.7768, 'auc': 0.8129}\n",
      "Epoch 16: 100%|██████████| 1/1 [00:00<00:00, 24.78it/s, v_num=0]val: {'epoch': 16, 'loss': 0.6139, 'lr': 0.0098, 'params': 104256, 'time_iter': 0.0161, 'accuracy': 0.6831, 'precision': 0.6324, 'recall': 0.8748, 'f1': 0.7341, 'auc': 0.7549}\n",
      "Epoch 16: 100%|██████████| 1/1 [00:00<00:00,  8.80it/s, v_num=0]train: {'epoch': 16, 'eta': 7.1264, 'loss': 0.5889, 'lr': 0.0098, 'params': 104256, 'time_iter': 0.039, 'accuracy': 0.729, 'precision': 0.6551, 'recall': 0.9673, 'f1': 0.7812, 'auc': 0.8142}\n",
      "Epoch 17: 100%|██████████| 1/1 [00:00<00:00, 25.14it/s, v_num=0]val: {'epoch': 17, 'loss': 0.6144, 'lr': 0.0098, 'params': 104256, 'time_iter': 0.0163, 'accuracy': 0.6879, 'precision': 0.6375, 'recall': 0.871, 'f1': 0.7362, 'auc': 0.7528}\n",
      "Epoch 17: 100%|██████████| 1/1 [00:00<00:00,  9.07it/s, v_num=0]train: {'epoch': 17, 'eta': 7.0824, 'loss': 0.5714, 'lr': 0.0098, 'params': 104256, 'time_iter': 0.0384, 'accuracy': 0.7236, 'precision': 0.6525, 'recall': 0.9569, 'f1': 0.7759, 'auc': 0.8276}\n",
      "Epoch 18: 100%|██████████| 1/1 [00:00<00:00, 24.71it/s, v_num=0]val: {'epoch': 18, 'loss': 0.6079, 'lr': 0.0098, 'params': 104256, 'time_iter': 0.0169, 'accuracy': 0.685, 'precision': 0.6383, 'recall': 0.8539, 'f1': 0.7305, 'auc': 0.7586}\n",
      "Epoch 18: 100%|██████████| 1/1 [00:00<00:00,  8.90it/s, v_num=0]train: {'epoch': 18, 'eta': 7.0456, 'loss': 0.5583, 'lr': 0.0098, 'params': 104256, 'time_iter': 0.0391, 'accuracy': 0.7384, 'precision': 0.6652, 'recall': 0.9598, 'f1': 0.7858, 'auc': 0.8271}\n",
      "Epoch 19: 100%|██████████| 1/1 [00:00<00:00, 24.35it/s, v_num=0]val: {'epoch': 19, 'loss': 0.5943, 'lr': 0.0098, 'params': 104256, 'time_iter': 0.0163, 'accuracy': 0.6935, 'precision': 0.6445, 'recall': 0.8634, 'f1': 0.738, 'auc': 0.7736}\n",
      "Epoch 19: 100%|██████████| 1/1 [00:00<00:00,  9.67it/s, v_num=0]train: {'epoch': 19, 'eta': 7.0143, 'loss': 0.5426, 'lr': 0.0098, 'params': 104256, 'time_iter': 0.0398, 'accuracy': 0.7443, 'precision': 0.6703, 'recall': 0.9616, 'f1': 0.79, 'auc': 0.8439}\n",
      "Epoch 20: 100%|██████████| 1/1 [00:00<00:00, 24.80it/s, v_num=0]val: {'epoch': 20, 'loss': 0.5835, 'lr': 0.0097, 'params': 104256, 'time_iter': 0.0165, 'accuracy': 0.7258, 'precision': 0.6681, 'recall': 0.8975, 'f1': 0.766, 'auc': 0.7863}\n",
      "Epoch 20: 100%|██████████| 1/1 [00:00<00:00,  9.18it/s, v_num=0]train: {'epoch': 20, 'eta': 6.9754, 'loss': 0.5267, 'lr': 0.0097, 'params': 104256, 'time_iter': 0.039, 'accuracy': 0.7588, 'precision': 0.6817, 'recall': 0.9706, 'f1': 0.8009, 'auc': 0.8632}\n",
      "Epoch 21: 100%|██████████| 1/1 [00:00<00:00, 24.78it/s, v_num=0]val: {'epoch': 21, 'loss': 0.5838, 'lr': 0.0097, 'params': 104256, 'time_iter': 0.017, 'accuracy': 0.7277, 'precision': 0.6729, 'recall': 0.8861, 'f1': 0.7649, 'auc': 0.79}\n",
      "Epoch 21: 100%|██████████| 1/1 [00:00<00:00,  9.81it/s, v_num=0]train: {'epoch': 21, 'eta': 6.9365, 'loss': 0.5143, 'lr': 0.0097, 'params': 104256, 'time_iter': 0.039, 'accuracy': 0.7814, 'precision': 0.7019, 'recall': 0.9782, 'f1': 0.8173, 'auc': 0.8774}\n",
      "Epoch 22: 100%|██████████| 1/1 [00:00<00:00, 22.31it/s, v_num=0]val: {'epoch': 22, 'loss': 0.5857, 'lr': 0.0097, 'params': 104256, 'time_iter': 0.0172, 'accuracy': 0.7353, 'precision': 0.6797, 'recall': 0.8899, 'f1': 0.7707, 'auc': 0.7901}\n",
      "Epoch 22: 100%|██████████| 1/1 [00:00<00:00, 10.12it/s, v_num=0]train: {'epoch': 22, 'eta': 6.9322, 'loss': 0.5002, 'lr': 0.0097, 'params': 104256, 'time_iter': 0.0435, 'accuracy': 0.7868, 'precision': 0.708, 'recall': 0.9763, 'f1': 0.8208, 'auc': 0.8918}\n",
      "Epoch 23: 100%|██████████| 1/1 [00:00<00:00, 24.95it/s, v_num=0]val: {'epoch': 23, 'loss': 0.6002, 'lr': 0.0096, 'params': 104256, 'time_iter': 0.0163, 'accuracy': 0.7372, 'precision': 0.6812, 'recall': 0.8918, 'f1': 0.7724, 'auc': 0.7853}\n",
      "Epoch 23: 100%|██████████| 1/1 [00:00<00:00,  9.43it/s, v_num=0]train: {'epoch': 23, 'eta': 6.8899, 'loss': 0.4848, 'lr': 0.0096, 'params': 104256, 'time_iter': 0.0387, 'accuracy': 0.7979, 'precision': 0.7191, 'recall': 0.978, 'f1': 0.8288, 'auc': 0.8959}\n",
      "Epoch 24: 100%|██████████| 1/1 [00:00<00:00, 25.62it/s, v_num=0]val: {'epoch': 24, 'loss': 0.6189, 'lr': 0.0096, 'params': 104256, 'time_iter': 0.0167, 'accuracy': 0.722, 'precision': 0.6696, 'recall': 0.8767, 'f1': 0.7592, 'auc': 0.7789}\n",
      "Epoch 24: 100%|██████████| 1/1 [00:00<00:00,  9.18it/s, v_num=0]train: {'epoch': 24, 'eta': 6.8407, 'loss': 0.4745, 'lr': 0.0096, 'params': 104256, 'time_iter': 0.0377, 'accuracy': 0.8028, 'precision': 0.7245, 'recall': 0.977, 'f1': 0.8321, 'auc': 0.9005}\n",
      "Epoch 25: 100%|██████████| 1/1 [00:00<00:00, 23.85it/s, v_num=0]val: {'epoch': 25, 'loss': 0.6342, 'lr': 0.0096, 'params': 104256, 'time_iter': 0.0166, 'accuracy': 0.7125, 'precision': 0.6637, 'recall': 0.8615, 'f1': 0.7498, 'auc': 0.7724}\n",
      "Epoch 25: 100%|██████████| 1/1 [00:00<00:00,  9.19it/s, v_num=0]train: {'epoch': 25, 'eta': 6.8116, 'loss': 0.4673, 'lr': 0.0096, 'params': 104256, 'time_iter': 0.0406, 'accuracy': 0.8101, 'precision': 0.7329, 'recall': 0.9759, 'f1': 0.8371, 'auc': 0.9015}\n",
      "Epoch 26: 100%|██████████| 1/1 [00:00<00:00, 24.10it/s, v_num=0]val: {'epoch': 26, 'loss': 0.6342, 'lr': 0.0096, 'params': 104256, 'time_iter': 0.017, 'accuracy': 0.7116, 'precision': 0.6614, 'recall': 0.8672, 'f1': 0.7504, 'auc': 0.7692}\n",
      "Epoch 26: 100%|██████████| 1/1 [00:00<00:00,  6.44it/s, v_num=0]train: {'epoch': 26, 'eta': 6.7789, 'loss': 0.459, 'lr': 0.0096, 'params': 104256, 'time_iter': 0.0402, 'accuracy': 0.8104, 'precision': 0.7322, 'recall': 0.9787, 'f1': 0.8377, 'auc': 0.9094}\n",
      "Epoch 27: 100%|██████████| 1/1 [00:00<00:00, 24.86it/s, v_num=0]val: {'epoch': 27, 'loss': 0.6349, 'lr': 0.0095, 'params': 104256, 'time_iter': 0.0164, 'accuracy': 0.7049, 'precision': 0.6561, 'recall': 0.8615, 'f1': 0.7449, 'auc': 0.7672}\n",
      "Epoch 27: 100%|██████████| 1/1 [00:00<00:00,  6.56it/s, v_num=0]train: {'epoch': 27, 'eta': 6.7377, 'loss': 0.4491, 'lr': 0.0095, 'params': 104256, 'time_iter': 0.0389, 'accuracy': 0.8146, 'precision': 0.7378, 'recall': 0.9761, 'f1': 0.8404, 'auc': 0.911}\n",
      "Epoch 28: 100%|██████████| 1/1 [00:00<00:00, 24.67it/s, v_num=0]val: {'epoch': 28, 'loss': 0.6398, 'lr': 0.0095, 'params': 104256, 'time_iter': 0.0167, 'accuracy': 0.6964, 'precision': 0.6456, 'recall': 0.871, 'f1': 0.7415, 'auc': 0.7633}\n",
      "Epoch 28: 100%|██████████| 1/1 [00:00<00:00,  7.58it/s, v_num=0]train: {'epoch': 28, 'eta': 6.6986, 'loss': 0.4406, 'lr': 0.0095, 'params': 104256, 'time_iter': 0.0392, 'accuracy': 0.8174, 'precision': 0.7411, 'recall': 0.9756, 'f1': 0.8423, 'auc': 0.9171}\n",
      "Epoch 29: 100%|██████████| 1/1 [00:00<00:00, 25.92it/s, v_num=0]val: {'epoch': 29, 'loss': 0.661, 'lr': 0.0095, 'params': 104256, 'time_iter': 0.0158, 'accuracy': 0.6917, 'precision': 0.6468, 'recall': 0.8444, 'f1': 0.7325, 'auc': 0.7541}\n",
      "Epoch 29: 100%|██████████| 1/1 [00:00<00:00, 10.78it/s, v_num=0]train: {'epoch': 29, 'eta': 6.6488, 'loss': 0.4361, 'lr': 0.0095, 'params': 104256, 'time_iter': 0.0373, 'accuracy': 0.8177, 'precision': 0.741, 'recall': 0.9768, 'f1': 0.8427, 'auc': 0.9204}\n",
      "Epoch 30: 100%|██████████| 1/1 [00:00<00:00, 24.91it/s, v_num=0]val: {'epoch': 30, 'loss': 0.6737, 'lr': 0.0094, 'params': 104256, 'time_iter': 0.0161, 'accuracy': 0.6907, 'precision': 0.6438, 'recall': 0.8539, 'f1': 0.7341, 'auc': 0.7524}\n",
      "Epoch 30: 100%|██████████| 1/1 [00:00<00:00,  9.65it/s, v_num=0]train: {'epoch': 30, 'eta': 6.6076, 'loss': 0.4343, 'lr': 0.0094, 'params': 104256, 'time_iter': 0.0387, 'accuracy': 0.8156, 'precision': 0.74, 'recall': 0.973, 'f1': 0.8407, 'auc': 0.9193}\n",
      "Epoch 31: 100%|██████████| 1/1 [00:00<00:00, 24.96it/s, v_num=0]val: {'epoch': 31, 'loss': 0.685, 'lr': 0.0094, 'params': 104256, 'time_iter': 0.0159, 'accuracy': 0.6869, 'precision': 0.643, 'recall': 0.8406, 'f1': 0.7286, 'auc': 0.7458}\n",
      "Epoch 31: 100%|██████████| 1/1 [00:00<00:00,  6.76it/s, v_num=0]train: {'epoch': 31, 'eta': 6.5666, 'loss': 0.4225, 'lr': 0.0094, 'params': 104256, 'time_iter': 0.0387, 'accuracy': 0.822, 'precision': 0.746, 'recall': 0.9763, 'f1': 0.8458, 'auc': 0.9269}\n",
      "Epoch 32: 100%|██████████| 1/1 [00:00<00:00, 26.21it/s, v_num=0]val: {'epoch': 32, 'loss': 0.6878, 'lr': 0.0093, 'params': 104256, 'time_iter': 0.0162, 'accuracy': 0.6888, 'precision': 0.644, 'recall': 0.8444, 'f1': 0.7307, 'auc': 0.7463}\n",
      "Epoch 32: 100%|██████████| 1/1 [00:00<00:00,  9.63it/s, v_num=0]train: {'epoch': 32, 'eta': 6.5162, 'loss': 0.4141, 'lr': 0.0093, 'params': 104256, 'time_iter': 0.0368, 'accuracy': 0.8265, 'precision': 0.7522, 'recall': 0.9737, 'f1': 0.8487, 'auc': 0.929}\n",
      "Epoch 33: 100%|██████████| 1/1 [00:00<00:00, 24.08it/s, v_num=0]val: {'epoch': 33, 'loss': 0.6968, 'lr': 0.0093, 'params': 104256, 'time_iter': 0.0174, 'accuracy': 0.6803, 'precision': 0.6381, 'recall': 0.833, 'f1': 0.7226, 'auc': 0.7411}\n",
      "Epoch 33: 100%|██████████| 1/1 [00:00<00:00,  6.87it/s, v_num=0]train: {'epoch': 33, 'eta': 6.4823, 'loss': 0.4117, 'lr': 0.0093, 'params': 104256, 'time_iter': 0.0401, 'accuracy': 0.8256, 'precision': 0.7515, 'recall': 0.973, 'f1': 0.848, 'auc': 0.9312}\n",
      "Epoch 34: 100%|██████████| 1/1 [00:00<00:00, 24.78it/s, v_num=0]val: {'epoch': 34, 'loss': 0.7186, 'lr': 0.0093, 'params': 104256, 'time_iter': 0.0163, 'accuracy': 0.6717, 'precision': 0.6313, 'recall': 0.8254, 'f1': 0.7155, 'auc': 0.7297}\n",
      "Epoch 34: 100%|██████████| 1/1 [00:00<00:00,  8.80it/s, v_num=0]train: {'epoch': 34, 'eta': 6.443, 'loss': 0.3998, 'lr': 0.0093, 'params': 104256, 'time_iter': 0.039, 'accuracy': 0.8344, 'precision': 0.761, 'recall': 0.9749, 'f1': 0.8548, 'auc': 0.9353}\n",
      "Epoch 35: 100%|██████████| 1/1 [00:00<00:00, 24.72it/s, v_num=0]val: {'epoch': 35, 'loss': 0.7166, 'lr': 0.0092, 'params': 104256, 'time_iter': 0.0164, 'accuracy': 0.6746, 'precision': 0.6353, 'recall': 0.8197, 'f1': 0.7158, 'auc': 0.7354}\n",
      "Epoch 35: 100%|██████████| 1/1 [00:00<00:00,  8.97it/s, v_num=0]train: {'epoch': 35, 'eta': 6.4043, 'loss': 0.4003, 'lr': 0.0092, 'params': 104256, 'time_iter': 0.0391, 'accuracy': 0.8356, 'precision': 0.7634, 'recall': 0.9725, 'f1': 0.8554, 'auc': 0.9332}\n",
      "Epoch 36: 100%|██████████| 1/1 [00:00<00:00, 25.25it/s, v_num=0]val: {'epoch': 36, 'loss': 0.7304, 'lr': 0.0092, 'params': 104256, 'time_iter': 0.0166, 'accuracy': 0.6803, 'precision': 0.6405, 'recall': 0.8216, 'f1': 0.7199, 'auc': 0.7296}\n",
      "Epoch 36: 100%|██████████| 1/1 [00:00<00:00,  8.68it/s, v_num=0]train: {'epoch': 36, 'eta': 6.3618, 'loss': 0.3917, 'lr': 0.0092, 'params': 104256, 'time_iter': 0.0383, 'accuracy': 0.8397, 'precision': 0.7675, 'recall': 0.9747, 'f1': 0.8588, 'auc': 0.9369}\n",
      "Epoch 37: 100%|██████████| 1/1 [00:00<00:00, 25.13it/s, v_num=0]val: {'epoch': 37, 'loss': 0.7418, 'lr': 0.0091, 'params': 104256, 'time_iter': 0.016, 'accuracy': 0.667, 'precision': 0.6283, 'recall': 0.8178, 'f1': 0.7106, 'auc': 0.7247}\n",
      "Epoch 37: 100%|██████████| 1/1 [00:00<00:00,  9.57it/s, v_num=0]train: {'epoch': 37, 'eta': 6.3203, 'loss': 0.3886, 'lr': 0.0091, 'params': 104256, 'time_iter': 0.0385, 'accuracy': 0.844, 'precision': 0.7751, 'recall': 0.9692, 'f1': 0.8614, 'auc': 0.9355}\n",
      "Epoch 38: 100%|██████████| 1/1 [00:00<00:00, 25.08it/s, v_num=0]val: {'epoch': 38, 'loss': 0.7534, 'lr': 0.0091, 'params': 104256, 'time_iter': 0.016, 'accuracy': 0.6632, 'precision': 0.6295, 'recall': 0.7932, 'f1': 0.7019, 'auc': 0.7181}\n",
      "Epoch 38: 100%|██████████| 1/1 [00:00<00:00,  9.91it/s, v_num=0]train: {'epoch': 38, 'eta': 6.2793, 'loss': 0.3875, 'lr': 0.0091, 'params': 104256, 'time_iter': 0.0385, 'accuracy': 0.8409, 'precision': 0.7689, 'recall': 0.9749, 'f1': 0.8597, 'auc': 0.937}\n",
      "Epoch 39: 100%|██████████| 1/1 [00:00<00:00, 25.36it/s, v_num=0]val: {'epoch': 39, 'loss': 0.7448, 'lr': 0.009, 'params': 104256, 'time_iter': 0.0161, 'accuracy': 0.6698, 'precision': 0.6303, 'recall': 0.8216, 'f1': 0.7133, 'auc': 0.7256}\n",
      "Epoch 39: 100%|██████████| 1/1 [00:00<00:00,  9.54it/s, v_num=0]train: {'epoch': 39, 'eta': 6.2365, 'loss': 0.3843, 'lr': 0.009, 'params': 104256, 'time_iter': 0.0381, 'accuracy': 0.8475, 'precision': 0.7814, 'recall': 0.965, 'f1': 0.8636, 'auc': 0.935}\n",
      "Epoch 40: 100%|██████████| 1/1 [00:00<00:00, 25.42it/s, v_num=0]val: {'epoch': 40, 'loss': 0.7501, 'lr': 0.009, 'params': 104256, 'time_iter': 0.016, 'accuracy': 0.6632, 'precision': 0.628, 'recall': 0.8008, 'f1': 0.7039, 'auc': 0.7225}\n",
      "Epoch 40: 100%|██████████| 1/1 [00:00<00:00,  9.32it/s, v_num=0]train: {'epoch': 40, 'eta': 6.1938, 'loss': 0.3835, 'lr': 0.009, 'params': 104256, 'time_iter': 0.038, 'accuracy': 0.8383, 'precision': 0.7652, 'recall': 0.9761, 'f1': 0.8579, 'auc': 0.9411}\n",
      "Epoch 41: 100%|██████████| 1/1 [00:00<00:00, 24.64it/s, v_num=0]val: {'epoch': 41, 'loss': 0.764, 'lr': 0.009, 'params': 104256, 'time_iter': 0.0158, 'accuracy': 0.6499, 'precision': 0.6183, 'recall': 0.7837, 'f1': 0.6912, 'auc': 0.7164}\n",
      "Epoch 41: 100%|██████████| 1/1 [00:00<00:00,  9.11it/s, v_num=0]train: {'epoch': 41, 'eta': 6.1561, 'loss': 0.368, 'lr': 0.009, 'params': 104256, 'time_iter': 0.0393, 'accuracy': 0.8532, 'precision': 0.7852, 'recall': 0.9725, 'f1': 0.8689, 'auc': 0.9437}\n",
      "Epoch 42: 100%|██████████| 1/1 [00:00<00:00, 24.99it/s, v_num=0]val: {'epoch': 42, 'loss': 0.7609, 'lr': 0.0089, 'params': 104256, 'time_iter': 0.0162, 'accuracy': 0.6651, 'precision': 0.6276, 'recall': 0.8121, 'f1': 0.708, 'auc': 0.7203}\n",
      "Epoch 42: 100%|██████████| 1/1 [00:00<00:00,  9.29it/s, v_num=0]train: {'epoch': 42, 'eta': 6.1162, 'loss': 0.371, 'lr': 0.0089, 'params': 104256, 'time_iter': 0.0387, 'accuracy': 0.849, 'precision': 0.7813, 'recall': 0.9692, 'f1': 0.8652, 'auc': 0.942}\n",
      "Epoch 43: 100%|██████████| 1/1 [00:00<00:00, 25.52it/s, v_num=0]val: {'epoch': 43, 'loss': 0.7713, 'lr': 0.0089, 'params': 104256, 'time_iter': 0.0162, 'accuracy': 0.6594, 'precision': 0.6235, 'recall': 0.8046, 'f1': 0.7026, 'auc': 0.7176}\n",
      "Epoch 43: 100%|██████████| 1/1 [00:00<00:00,  9.68it/s, v_num=0]train: {'epoch': 43, 'eta': 6.0734, 'loss': 0.365, 'lr': 0.0089, 'params': 104256, 'time_iter': 0.0379, 'accuracy': 0.8498, 'precision': 0.7781, 'recall': 0.9787, 'f1': 0.8669, 'auc': 0.9473}\n",
      "Epoch 44: 100%|██████████| 1/1 [00:00<00:00, 23.80it/s, v_num=0]val: {'epoch': 44, 'loss': 0.7798, 'lr': 0.0088, 'params': 104256, 'time_iter': 0.0162, 'accuracy': 0.6575, 'precision': 0.6246, 'recall': 0.7894, 'f1': 0.6974, 'auc': 0.7148}\n",
      "Epoch 44: 100%|██████████| 1/1 [00:00<00:00,  9.45it/s, v_num=0]train: {'epoch': 44, 'eta': 6.0407, 'loss': 0.3626, 'lr': 0.0088, 'params': 104256, 'time_iter': 0.0407, 'accuracy': 0.8523, 'precision': 0.7846, 'recall': 0.9711, 'f1': 0.868, 'auc': 0.946}\n",
      "Epoch 45: 100%|██████████| 1/1 [00:00<00:00, 24.06it/s, v_num=0]val: {'epoch': 45, 'loss': 0.7936, 'lr': 0.0088, 'params': 104256, 'time_iter': 0.0157, 'accuracy': 0.6632, 'precision': 0.6287, 'recall': 0.797, 'f1': 0.7029, 'auc': 0.7106}\n",
      "Epoch 45: 100%|██████████| 1/1 [00:00<00:00, 10.63it/s, v_num=0]train: {'epoch': 45, 'eta': 6.0066, 'loss': 0.353, 'lr': 0.0088, 'params': 104256, 'time_iter': 0.0404, 'accuracy': 0.8593, 'precision': 0.7934, 'recall': 0.9716, 'f1': 0.8735, 'auc': 0.9485}\n",
      "Epoch 46: 100%|██████████| 1/1 [00:00<00:00, 25.19it/s, v_num=0]val: {'epoch': 46, 'loss': 0.801, 'lr': 0.0087, 'params': 104256, 'time_iter': 0.0162, 'accuracy': 0.6556, 'precision': 0.6228, 'recall': 0.7894, 'f1': 0.6962, 'auc': 0.7093}\n",
      "Epoch 46: 100%|██████████| 1/1 [00:00<00:00,  9.79it/s, v_num=0]train: {'epoch': 46, 'eta': 5.9655, 'loss': 0.3564, 'lr': 0.0087, 'params': 104256, 'time_iter': 0.0384, 'accuracy': 0.8552, 'precision': 0.7867, 'recall': 0.9747, 'f1': 0.8707, 'auc': 0.9478}\n",
      "Epoch 47: 100%|██████████| 1/1 [00:00<00:00, 25.17it/s, v_num=0]val: {'epoch': 47, 'loss': 0.8003, 'lr': 0.0086, 'params': 104256, 'time_iter': 0.0163, 'accuracy': 0.6613, 'precision': 0.6261, 'recall': 0.8008, 'f1': 0.7027, 'auc': 0.7125}\n",
      "Epoch 47: 100%|██████████| 1/1 [00:00<00:00,  8.93it/s, v_num=0]train: {'epoch': 47, 'eta': 5.9246, 'loss': 0.352, 'lr': 0.0086, 'params': 104256, 'time_iter': 0.0384, 'accuracy': 0.8595, 'precision': 0.7959, 'recall': 0.9669, 'f1': 0.8731, 'auc': 0.9467}\n",
      "Epoch 48: 100%|██████████| 1/1 [00:00<00:00, 25.35it/s, v_num=0]val: {'epoch': 48, 'loss': 0.8116, 'lr': 0.0086, 'params': 104256, 'time_iter': 0.0167, 'accuracy': 0.666, 'precision': 0.6324, 'recall': 0.7932, 'f1': 0.7037, 'auc': 0.7082}\n",
      "Epoch 48: 100%|██████████| 1/1 [00:00<00:00,  5.08it/s, v_num=0]train: {'epoch': 48, 'eta': 5.883, 'loss': 0.3484, 'lr': 0.0086, 'params': 104256, 'time_iter': 0.0381, 'accuracy': 0.8604, 'precision': 0.7928, 'recall': 0.9759, 'f1': 0.8749, 'auc': 0.9503}\n",
      "Epoch 49: 100%|██████████| 1/1 [00:00<00:00, 24.03it/s, v_num=0]val: {'epoch': 49, 'loss': 0.8045, 'lr': 0.0085, 'params': 104256, 'time_iter': 0.0178, 'accuracy': 0.6679, 'precision': 0.6339, 'recall': 0.7951, 'f1': 0.7054, 'auc': 0.7136}\n",
      "Epoch 49: 100%|██████████| 1/1 [00:00<00:00,  8.91it/s, v_num=0]train: {'epoch': 49, 'eta': 5.8479, 'loss': 0.3445, 'lr': 0.0085, 'params': 104256, 'time_iter': 0.0403, 'accuracy': 0.8614, 'precision': 0.7987, 'recall': 0.9664, 'f1': 0.8746, 'auc': 0.9486}\n",
      "Epoch 50: 100%|██████████| 1/1 [00:00<00:00, 25.52it/s, v_num=0]val: {'epoch': 50, 'loss': 0.8087, 'lr': 0.0085, 'params': 104256, 'time_iter': 0.0159, 'accuracy': 0.6708, 'precision': 0.6339, 'recall': 0.8083, 'f1': 0.7106, 'auc': 0.7149}\n",
      "Epoch 50: 100%|██████████| 1/1 [00:00<00:00,  9.54it/s, v_num=0]train: {'epoch': 50, 'eta': 5.8057, 'loss': 0.3353, 'lr': 0.0085, 'params': 104256, 'time_iter': 0.0379, 'accuracy': 0.8654, 'precision': 0.8021, 'recall': 0.9702, 'f1': 0.8782, 'auc': 0.9528}\n",
      "Epoch 51: 100%|██████████| 1/1 [00:00<00:00, 24.87it/s, v_num=0]val: {'epoch': 51, 'loss': 0.8147, 'lr': 0.0084, 'params': 104256, 'time_iter': 0.0162, 'accuracy': 0.6717, 'precision': 0.6386, 'recall': 0.7913, 'f1': 0.7068, 'auc': 0.7139}\n",
      "Epoch 51: 100%|██████████| 1/1 [00:00<00:00,  9.33it/s, v_num=0]train: {'epoch': 51, 'eta': 5.7664, 'loss': 0.3369, 'lr': 0.0084, 'params': 104256, 'time_iter': 0.0389, 'accuracy': 0.8651, 'precision': 0.8015, 'recall': 0.9704, 'f1': 0.8779, 'auc': 0.9527}\n",
      "Epoch 52: 100%|██████████| 1/1 [00:00<00:00, 23.29it/s, v_num=0]val: {'epoch': 52, 'loss': 0.8244, 'lr': 0.0084, 'params': 104256, 'time_iter': 0.0174, 'accuracy': 0.6708, 'precision': 0.638, 'recall': 0.7894, 'f1': 0.7057, 'auc': 0.7111}\n",
      "Epoch 52: 100%|██████████| 1/1 [00:00<00:00,  9.17it/s, v_num=0]train: {'epoch': 52, 'eta': 5.7349, 'loss': 0.3287, 'lr': 0.0084, 'params': 104256, 'time_iter': 0.0416, 'accuracy': 0.8686, 'precision': 0.8076, 'recall': 0.9678, 'f1': 0.8805, 'auc': 0.9536}\n",
      "Epoch 53: 100%|██████████| 1/1 [00:00<00:00, 25.17it/s, v_num=0]val: {'epoch': 53, 'loss': 0.8375, 'lr': 0.0083, 'params': 104256, 'time_iter': 0.0158, 'accuracy': 0.6603, 'precision': 0.6278, 'recall': 0.7875, 'f1': 0.6987, 'auc': 0.7086}\n",
      "Epoch 53: 100%|██████████| 1/1 [00:00<00:00,  9.68it/s, v_num=0]train: {'epoch': 53, 'eta': 5.6947, 'loss': 0.328, 'lr': 0.0083, 'params': 104256, 'time_iter': 0.0386, 'accuracy': 0.8687, 'precision': 0.8075, 'recall': 0.9683, 'f1': 0.8806, 'auc': 0.9543}\n",
      "Epoch 54: 100%|██████████| 1/1 [00:00<00:00, 25.08it/s, v_num=0]val: {'epoch': 54, 'loss': 0.8628, 'lr': 0.0082, 'params': 104256, 'time_iter': 0.0161, 'accuracy': 0.649, 'precision': 0.621, 'recall': 0.7647, 'f1': 0.6854, 'auc': 0.6987}\n",
      "Epoch 54: 100%|██████████| 1/1 [00:00<00:00,  9.42it/s, v_num=0]train: {'epoch': 54, 'eta': 5.6543, 'loss': 0.3362, 'lr': 0.0082, 'params': 104256, 'time_iter': 0.0385, 'accuracy': 0.8641, 'precision': 0.8053, 'recall': 0.9605, 'f1': 0.8761, 'auc': 0.9503}\n",
      "Epoch 55: 100%|██████████| 1/1 [00:00<00:00, 24.02it/s, v_num=0]val: {'epoch': 55, 'loss': 0.8932, 'lr': 0.0082, 'params': 104256, 'time_iter': 0.0191, 'accuracy': 0.6376, 'precision': 0.6061, 'recall': 0.7856, 'f1': 0.6843, 'auc': 0.6899}\n",
      "Epoch 55: 100%|██████████| 1/1 [00:00<00:00,  9.82it/s, v_num=0]train: {'epoch': 55, 'eta': 5.6186, 'loss': 0.3636, 'lr': 0.0082, 'params': 104256, 'time_iter': 0.0403, 'accuracy': 0.8458, 'precision': 0.777, 'recall': 0.9699, 'f1': 0.8628, 'auc': 0.9463}\n",
      "Epoch 56: 100%|██████████| 1/1 [00:00<00:00, 25.98it/s, v_num=0]val: {'epoch': 56, 'loss': 0.8113, 'lr': 0.0081, 'params': 104256, 'time_iter': 0.0178, 'accuracy': 0.6708, 'precision': 0.6351, 'recall': 0.8027, 'f1': 0.7091, 'auc': 0.7164}\n",
      "Epoch 56: 100%|██████████| 1/1 [00:00<00:00,  9.35it/s, v_num=0]train: {'epoch': 56, 'eta': 5.5742, 'loss': 0.41, 'lr': 0.0081, 'params': 104256, 'time_iter': 0.0369, 'accuracy': 0.8349, 'precision': 0.7754, 'recall': 0.9429, 'f1': 0.851, 'auc': 0.925}\n",
      "Epoch 57: 100%|██████████| 1/1 [00:00<00:00, 26.59it/s, v_num=0]val: {'epoch': 57, 'loss': 0.8147, 'lr': 0.0081, 'params': 104256, 'time_iter': 0.0163, 'accuracy': 0.6594, 'precision': 0.6269, 'recall': 0.7875, 'f1': 0.6981, 'auc': 0.7139}\n",
      "Epoch 57: 100%|██████████| 1/1 [00:00<00:00,  9.83it/s, v_num=0]train: {'epoch': 57, 'eta': 5.5286, 'loss': 0.3286, 'lr': 0.0081, 'params': 104256, 'time_iter': 0.0363, 'accuracy': 0.8688, 'precision': 0.8054, 'recall': 0.9728, 'f1': 0.8812, 'auc': 0.9567}\n",
      "Epoch 58: 100%|██████████| 1/1 [00:00<00:00, 23.39it/s, v_num=0]val: {'epoch': 58, 'loss': 0.7866, 'lr': 0.008, 'params': 104256, 'time_iter': 0.0171, 'accuracy': 0.6679, 'precision': 0.6347, 'recall': 0.7913, 'f1': 0.7044, 'auc': 0.7215}\n",
      "Epoch 58: 100%|██████████| 1/1 [00:00<00:00,  8.96it/s, v_num=0]train: {'epoch': 58, 'eta': 5.4948, 'loss': 0.367, 'lr': 0.008, 'params': 104256, 'time_iter': 0.0411, 'accuracy': 0.8406, 'precision': 0.7672, 'recall': 0.9777, 'f1': 0.8598, 'auc': 0.9512}\n",
      "Epoch 59: 100%|██████████| 1/1 [00:00<00:00, 25.31it/s, v_num=0]val: {'epoch': 59, 'loss': 0.7805, 'lr': 0.0079, 'params': 104256, 'time_iter': 0.0163, 'accuracy': 0.6736, 'precision': 0.638, 'recall': 0.8027, 'f1': 0.7109, 'auc': 0.7234}\n",
      "Epoch 59: 100%|██████████| 1/1 [00:00<00:00,  9.90it/s, v_num=0]train: {'epoch': 59, 'eta': 5.4541, 'loss': 0.3405, 'lr': 0.0079, 'params': 104256, 'time_iter': 0.0382, 'accuracy': 0.8583, 'precision': 0.7893, 'recall': 0.9775, 'f1': 0.8734, 'auc': 0.9561}\n",
      "Epoch 60: 100%|██████████| 1/1 [00:00<00:00, 24.73it/s, v_num=0]val: {'epoch': 60, 'loss': 0.7954, 'lr': 0.0079, 'params': 104256, 'time_iter': 0.0163, 'accuracy': 0.6708, 'precision': 0.6355, 'recall': 0.8008, 'f1': 0.7086, 'auc': 0.7171}\n",
      "Epoch 60: 100%|██████████| 1/1 [00:00<00:00,  8.90it/s, v_num=0]train: {'epoch': 60, 'eta': 5.4156, 'loss': 0.3335, 'lr': 0.0079, 'params': 104256, 'time_iter': 0.0392, 'accuracy': 0.8665, 'precision': 0.8028, 'recall': 0.9716, 'f1': 0.8792, 'auc': 0.9543}\n",
      "Epoch 61: 100%|██████████| 1/1 [00:00<00:00, 24.56it/s, v_num=0]val: {'epoch': 61, 'loss': 0.7853, 'lr': 0.0078, 'params': 104256, 'time_iter': 0.0162, 'accuracy': 0.6717, 'precision': 0.6369, 'recall': 0.7989, 'f1': 0.7088, 'auc': 0.7226}\n",
      "Epoch 61: 100%|██████████| 1/1 [00:00<00:00,  9.56it/s, v_num=0]train: {'epoch': 61, 'eta': 5.3775, 'loss': 0.3485, 'lr': 0.0078, 'params': 104256, 'time_iter': 0.0393, 'accuracy': 0.864, 'precision': 0.8015, 'recall': 0.9676, 'f1': 0.8768, 'auc': 0.9475}\n",
      "Epoch 62: 100%|██████████| 1/1 [00:00<00:00, 25.54it/s, v_num=0]val: {'epoch': 62, 'loss': 0.7796, 'lr': 0.0077, 'params': 104256, 'time_iter': 0.0169, 'accuracy': 0.6689, 'precision': 0.6357, 'recall': 0.7913, 'f1': 0.705, 'auc': 0.7254}\n",
      "Epoch 62: 100%|██████████| 1/1 [00:00<00:00,  9.65it/s, v_num=0]train: {'epoch': 62, 'eta': 5.336, 'loss': 0.3345, 'lr': 0.0077, 'params': 104256, 'time_iter': 0.0378, 'accuracy': 0.8671, 'precision': 0.8052, 'recall': 0.9685, 'f1': 0.8793, 'auc': 0.9529}\n",
      "Epoch 63: 100%|██████████| 1/1 [00:00<00:00, 25.14it/s, v_num=0]val: {'epoch': 63, 'loss': 0.7977, 'lr': 0.0077, 'params': 104256, 'time_iter': 0.0181, 'accuracy': 0.667, 'precision': 0.6337, 'recall': 0.7913, 'f1': 0.7038, 'auc': 0.719}\n",
      "Epoch 63: 100%|██████████| 1/1 [00:00<00:00,  9.35it/s, v_num=0]train: {'epoch': 63, 'eta': 5.2957, 'loss': 0.3211, 'lr': 0.0077, 'params': 104256, 'time_iter': 0.0383, 'accuracy': 0.872, 'precision': 0.8106, 'recall': 0.9709, 'f1': 0.8836, 'auc': 0.9591}\n",
      "Epoch 64: 100%|██████████| 1/1 [00:00<00:00, 26.02it/s, v_num=0]val: {'epoch': 64, 'loss': 0.7988, 'lr': 0.0076, 'params': 104256, 'time_iter': 0.0168, 'accuracy': 0.6679, 'precision': 0.6355, 'recall': 0.7875, 'f1': 0.7034, 'auc': 0.7194}\n",
      "Epoch 64: 100%|██████████| 1/1 [00:00<00:00, 10.08it/s, v_num=0]train: {'epoch': 64, 'eta': 5.253, 'loss': 0.3337, 'lr': 0.0076, 'params': 104256, 'time_iter': 0.0371, 'accuracy': 0.8629, 'precision': 0.7978, 'recall': 0.9723, 'f1': 0.8764, 'auc': 0.9558}\n",
      "Epoch 65: 100%|██████████| 1/1 [00:00<00:00, 26.03it/s, v_num=0]val: {'epoch': 65, 'loss': 0.7907, 'lr': 0.0075, 'params': 104256, 'time_iter': 0.0168, 'accuracy': 0.6613, 'precision': 0.63, 'recall': 0.7818, 'f1': 0.6977, 'auc': 0.7239}\n",
      "Epoch 65: 100%|██████████| 1/1 [00:00<00:00,  9.73it/s, v_num=0]train: {'epoch': 65, 'eta': 5.2104, 'loss': 0.3269, 'lr': 0.0075, 'params': 104256, 'time_iter': 0.0371, 'accuracy': 0.8683, 'precision': 0.8049, 'recall': 0.9721, 'f1': 0.8806, 'auc': 0.9575}\n",
      "Epoch 66: 100%|██████████| 1/1 [00:00<00:00, 25.32it/s, v_num=0]val: {'epoch': 66, 'loss': 0.8008, 'lr': 0.0075, 'params': 104256, 'time_iter': 0.0165, 'accuracy': 0.6689, 'precision': 0.6373, 'recall': 0.7837, 'f1': 0.703, 'auc': 0.7209}\n",
      "Epoch 66: 100%|██████████| 1/1 [00:00<00:00,  9.58it/s, v_num=0]train: {'epoch': 66, 'eta': 5.1701, 'loss': 0.3126, 'lr': 0.0075, 'params': 104256, 'time_iter': 0.0382, 'accuracy': 0.8771, 'precision': 0.8189, 'recall': 0.9685, 'f1': 0.8874, 'auc': 0.9601}\n",
      "Epoch 67: 100%|██████████| 1/1 [00:00<00:00, 25.09it/s, v_num=0]val: {'epoch': 67, 'loss': 0.807, 'lr': 0.0074, 'params': 104256, 'time_iter': 0.0152, 'accuracy': 0.666, 'precision': 0.634, 'recall': 0.7856, 'f1': 0.7017, 'auc': 0.7193}\n",
      "Epoch 67: 100%|██████████| 1/1 [00:00<00:00,  9.85it/s, v_num=0]train: {'epoch': 67, 'eta': 5.1306, 'loss': 0.3178, 'lr': 0.0074, 'params': 104256, 'time_iter': 0.0386, 'accuracy': 0.8746, 'precision': 0.8175, 'recall': 0.9647, 'f1': 0.885, 'auc': 0.9564}\n",
      "Epoch 68: 100%|██████████| 1/1 [00:00<00:00, 23.40it/s, v_num=0]val: {'epoch': 68, 'loss': 0.8042, 'lr': 0.0073, 'params': 104256, 'time_iter': 0.0167, 'accuracy': 0.6594, 'precision': 0.628, 'recall': 0.7818, 'f1': 0.6965, 'auc': 0.7207}\n",
      "Epoch 68: 100%|██████████| 1/1 [00:00<00:00,  9.15it/s, v_num=0]train: {'epoch': 68, 'eta': 5.0963, 'loss': 0.3153, 'lr': 0.0073, 'params': 104256, 'time_iter': 0.0413, 'accuracy': 0.8768, 'precision': 0.8213, 'recall': 0.9631, 'f1': 0.8866, 'auc': 0.9567}\n",
      "Epoch 69: 100%|██████████| 1/1 [00:00<00:00, 25.67it/s, v_num=0]val: {'epoch': 69, 'loss': 0.8064, 'lr': 0.0073, 'params': 104256, 'time_iter': 0.0173, 'accuracy': 0.6689, 'precision': 0.6378, 'recall': 0.7818, 'f1': 0.7025, 'auc': 0.7214}\n",
      "Epoch 69: 100%|██████████| 1/1 [00:00<00:00,  7.77it/s, v_num=0]train: {'epoch': 69, 'eta': 5.0551, 'loss': 0.3049, 'lr': 0.0073, 'params': 104256, 'time_iter': 0.0376, 'accuracy': 0.8787, 'precision': 0.8233, 'recall': 0.9643, 'f1': 0.8882, 'auc': 0.9606}\n",
      "Epoch 70: 100%|██████████| 1/1 [00:00<00:00, 26.34it/s, v_num=0]val: {'epoch': 70, 'loss': 0.8143, 'lr': 0.0072, 'params': 104256, 'time_iter': 0.016, 'accuracy': 0.6651, 'precision': 0.6364, 'recall': 0.7704, 'f1': 0.697, 'auc': 0.7203}\n",
      "Epoch 70: 100%|██████████| 1/1 [00:00<00:00, 10.23it/s, v_num=0]train: {'epoch': 70, 'eta': 5.0121, 'loss': 0.3027, 'lr': 0.0072, 'params': 104256, 'time_iter': 0.0367, 'accuracy': 0.8789, 'precision': 0.8205, 'recall': 0.9699, 'f1': 0.889, 'auc': 0.9631}\n",
      "Epoch 71: 100%|██████████| 1/1 [00:00<00:00, 26.25it/s, v_num=0]val: {'epoch': 71, 'loss': 0.8196, 'lr': 0.0071, 'params': 104256, 'time_iter': 0.0164, 'accuracy': 0.6679, 'precision': 0.6372, 'recall': 0.7799, 'f1': 0.7014, 'auc': 0.7202}\n",
      "Epoch 71: 100%|██████████| 1/1 [00:00<00:00, 10.13it/s, v_num=0]train: {'epoch': 71, 'eta': 4.9695, 'loss': 0.3041, 'lr': 0.0071, 'params': 104256, 'time_iter': 0.0367, 'accuracy': 0.8751, 'precision': 0.8168, 'recall': 0.9671, 'f1': 0.8856, 'auc': 0.9633}\n",
      "Epoch 72: 100%|██████████| 1/1 [00:00<00:00, 25.87it/s, v_num=0]val: {'epoch': 72, 'loss': 0.8308, 'lr': 0.0071, 'params': 104256, 'time_iter': 0.0172, 'accuracy': 0.6698, 'precision': 0.6396, 'recall': 0.778, 'f1': 0.7021, 'auc': 0.7178}\n",
      "Epoch 72: 100%|██████████| 1/1 [00:00<00:00,  8.05it/s, v_num=0]train: {'epoch': 72, 'eta': 4.9281, 'loss': 0.2931, 'lr': 0.0071, 'params': 104256, 'time_iter': 0.0373, 'accuracy': 0.8853, 'precision': 0.8321, 'recall': 0.9654, 'f1': 0.8938, 'auc': 0.9644}\n",
      "Epoch 73: 100%|██████████| 1/1 [00:00<00:00, 25.53it/s, v_num=0]val: {'epoch': 73, 'loss': 0.8405, 'lr': 0.007, 'params': 104256, 'time_iter': 0.0166, 'accuracy': 0.6708, 'precision': 0.6411, 'recall': 0.7761, 'f1': 0.7021, 'auc': 0.7161}\n",
      "Epoch 73: 100%|██████████| 1/1 [00:00<00:00, 10.17it/s, v_num=0]train: {'epoch': 73, 'eta': 4.8877, 'loss': 0.2919, 'lr': 0.007, 'params': 104256, 'time_iter': 0.0378, 'accuracy': 0.8862, 'precision': 0.836, 'recall': 0.9609, 'f1': 0.8942, 'auc': 0.9632}\n",
      "Epoch 74: 100%|██████████| 1/1 [00:00<00:00, 24.79it/s, v_num=0]val: {'epoch': 74, 'loss': 0.8475, 'lr': 0.0069, 'params': 104256, 'time_iter': 0.0164, 'accuracy': 0.6746, 'precision': 0.646, 'recall': 0.7723, 'f1': 0.7035, 'auc': 0.7145}\n",
      "Epoch 74: 100%|██████████| 1/1 [00:00<00:00,  9.55it/s, v_num=0]train: {'epoch': 74, 'eta': 4.8493, 'loss': 0.2898, 'lr': 0.0069, 'params': 104256, 'time_iter': 0.039, 'accuracy': 0.8879, 'precision': 0.8383, 'recall': 0.9612, 'f1': 0.8956, 'auc': 0.9637}\n",
      "Epoch 75: 100%|██████████| 1/1 [00:00<00:00, 25.37it/s, v_num=0]val: {'epoch': 75, 'loss': 0.86, 'lr': 0.0068, 'params': 104256, 'time_iter': 0.0165, 'accuracy': 0.6641, 'precision': 0.6388, 'recall': 0.7552, 'f1': 0.6922, 'auc': 0.7115}\n",
      "Epoch 75: 100%|██████████| 1/1 [00:00<00:00,  9.26it/s, v_num=0]train: {'epoch': 75, 'eta': 4.8094, 'loss': 0.2798, 'lr': 0.0068, 'params': 104256, 'time_iter': 0.0381, 'accuracy': 0.8939, 'precision': 0.8452, 'recall': 0.9645, 'f1': 0.9009, 'auc': 0.9669}\n",
      "Epoch 76: 100%|██████████| 1/1 [00:00<00:00, 24.40it/s, v_num=0]val: {'epoch': 76, 'loss': 0.8666, 'lr': 0.0068, 'params': 104256, 'time_iter': 0.0165, 'accuracy': 0.6632, 'precision': 0.6396, 'recall': 0.7476, 'f1': 0.6894, 'auc': 0.7108}\n",
      "Epoch 76: 100%|██████████| 1/1 [00:00<00:00,  8.81it/s, v_num=0]train: {'epoch': 76, 'eta': 4.772, 'loss': 0.2799, 'lr': 0.0068, 'params': 104256, 'time_iter': 0.0396, 'accuracy': 0.8931, 'precision': 0.8441, 'recall': 0.9643, 'f1': 0.9002, 'auc': 0.9671}\n",
      "Epoch 77: 100%|██████████| 1/1 [00:00<00:00, 25.77it/s, v_num=0]val: {'epoch': 77, 'loss': 0.8734, 'lr': 0.0067, 'params': 104256, 'time_iter': 0.0184, 'accuracy': 0.6622, 'precision': 0.639, 'recall': 0.7457, 'f1': 0.6883, 'auc': 0.7102}\n",
      "Epoch 77: 100%|██████████| 1/1 [00:00<00:00,  9.20it/s, v_num=0]train: {'epoch': 77, 'eta': 4.7311, 'loss': 0.2734, 'lr': 0.0067, 'params': 104256, 'time_iter': 0.0375, 'accuracy': 0.8951, 'precision': 0.8468, 'recall': 0.9647, 'f1': 0.9019, 'auc': 0.9686}\n",
      "Epoch 78: 100%|██████████| 1/1 [00:00<00:00, 25.76it/s, v_num=0]val: {'epoch': 78, 'loss': 0.881, 'lr': 0.0066, 'params': 104256, 'time_iter': 0.0167, 'accuracy': 0.6613, 'precision': 0.6384, 'recall': 0.7438, 'f1': 0.6871, 'auc': 0.7084}\n",
      "Epoch 78: 100%|██████████| 1/1 [00:00<00:00,  9.83it/s, v_num=0]train: {'epoch': 78, 'eta': 4.6903, 'loss': 0.266, 'lr': 0.0066, 'params': 104256, 'time_iter': 0.0375, 'accuracy': 0.9023, 'precision': 0.8585, 'recall': 0.9635, 'f1': 0.908, 'auc': 0.9689}\n",
      "Epoch 79: 100%|██████████| 1/1 [00:00<00:00, 26.04it/s, v_num=0]val: {'epoch': 79, 'loss': 0.8826, 'lr': 0.0065, 'params': 104256, 'time_iter': 0.0159, 'accuracy': 0.6603, 'precision': 0.6392, 'recall': 0.7362, 'f1': 0.6843, 'auc': 0.7085}\n",
      "Epoch 79: 100%|██████████| 1/1 [00:00<00:00,  9.18it/s, v_num=0]train: {'epoch': 79, 'eta': 4.6491, 'loss': 0.2639, 'lr': 0.0065, 'params': 104256, 'time_iter': 0.0371, 'accuracy': 0.9045, 'precision': 0.8636, 'recall': 0.9607, 'f1': 0.9096, 'auc': 0.9685}\n",
      "Epoch 80: 100%|██████████| 1/1 [00:00<00:00, 24.81it/s, v_num=0]val: {'epoch': 80, 'loss': 0.9019, 'lr': 0.0065, 'params': 104256, 'time_iter': 0.0158, 'accuracy': 0.6603, 'precision': 0.6388, 'recall': 0.7381, 'f1': 0.6849, 'auc': 0.7054}\n",
      "Epoch 80: 100%|██████████| 1/1 [00:00<00:00,  9.49it/s, v_num=0]train: {'epoch': 80, 'eta': 4.6107, 'loss': 0.2557, 'lr': 0.0065, 'params': 104256, 'time_iter': 0.039, 'accuracy': 0.9097, 'precision': 0.8689, 'recall': 0.965, 'f1': 0.9144, 'auc': 0.9711}\n",
      "Epoch 81: 100%|██████████| 1/1 [00:00<00:00, 25.45it/s, v_num=0]val: {'epoch': 81, 'loss': 0.9105, 'lr': 0.0064, 'params': 104256, 'time_iter': 0.0168, 'accuracy': 0.6584, 'precision': 0.6389, 'recall': 0.7287, 'f1': 0.6809, 'auc': 0.7062}\n",
      "Epoch 81: 100%|██████████| 1/1 [00:00<00:00,  7.00it/s, v_num=0]train: {'epoch': 81, 'eta': 4.5708, 'loss': 0.2529, 'lr': 0.0064, 'params': 104256, 'time_iter': 0.038, 'accuracy': 0.9092, 'precision': 0.8688, 'recall': 0.964, 'f1': 0.9139, 'auc': 0.9716}\n",
      "Epoch 82: 100%|██████████| 1/1 [00:00<00:00, 24.73it/s, v_num=0]val: {'epoch': 82, 'loss': 0.9268, 'lr': 0.0063, 'params': 104256, 'time_iter': 0.0161, 'accuracy': 0.6556, 'precision': 0.638, 'recall': 0.7192, 'f1': 0.6762, 'auc': 0.7041}\n",
      "Epoch 82: 100%|██████████| 1/1 [00:00<00:00,  9.52it/s, v_num=0]train: {'epoch': 82, 'eta': 4.5325, 'loss': 0.2452, 'lr': 0.0063, 'params': 104256, 'time_iter': 0.0391, 'accuracy': 0.9161, 'precision': 0.878, 'recall': 0.9664, 'f1': 0.9201, 'auc': 0.9732}\n",
      "Epoch 83: 100%|██████████| 1/1 [00:00<00:00, 25.28it/s, v_num=0]val: {'epoch': 83, 'loss': 0.9378, 'lr': 0.0062, 'params': 104256, 'time_iter': 0.0156, 'accuracy': 0.6584, 'precision': 0.6432, 'recall': 0.7116, 'f1': 0.6757, 'auc': 0.703}\n",
      "Epoch 83: 100%|██████████| 1/1 [00:00<00:00,  9.46it/s, v_num=0]train: {'epoch': 83, 'eta': 4.4931, 'loss': 0.2406, 'lr': 0.0062, 'params': 104256, 'time_iter': 0.0382, 'accuracy': 0.9181, 'precision': 0.8847, 'recall': 0.9614, 'f1': 0.9215, 'auc': 0.9732}\n",
      "Epoch 84: 100%|██████████| 1/1 [00:00<00:00, 24.67it/s, v_num=0]val: {'epoch': 84, 'loss': 0.9599, 'lr': 0.0062, 'params': 104256, 'time_iter': 0.0158, 'accuracy': 0.6613, 'precision': 0.6441, 'recall': 0.7211, 'f1': 0.6804, 'auc': 0.702}\n",
      "Epoch 84: 100%|██████████| 1/1 [00:00<00:00,  7.22it/s, v_num=0]train: {'epoch': 84, 'eta': 4.455, 'loss': 0.2339, 'lr': 0.0062, 'params': 104256, 'time_iter': 0.0392, 'accuracy': 0.9229, 'precision': 0.8903, 'recall': 0.9647, 'f1': 0.926, 'auc': 0.9748}\n",
      "Epoch 85: 100%|██████████| 1/1 [00:00<00:00, 25.19it/s, v_num=0]val: {'epoch': 85, 'loss': 0.966, 'lr': 0.0061, 'params': 104256, 'time_iter': 0.0161, 'accuracy': 0.6641, 'precision': 0.6504, 'recall': 0.7097, 'f1': 0.6788, 'auc': 0.6999}\n",
      "Epoch 85: 100%|██████████| 1/1 [00:00<00:00, 10.53it/s, v_num=0]train: {'epoch': 85, 'eta': 4.4157, 'loss': 0.2297, 'lr': 0.0061, 'params': 104256, 'time_iter': 0.0383, 'accuracy': 0.9229, 'precision': 0.8883, 'recall': 0.9676, 'f1': 0.9262, 'auc': 0.9763}\n",
      "Epoch 86: 100%|██████████| 1/1 [00:00<00:00, 25.29it/s, v_num=0]val: {'epoch': 86, 'loss': 0.9977, 'lr': 0.006, 'params': 104256, 'time_iter': 0.0172, 'accuracy': 0.6603, 'precision': 0.6444, 'recall': 0.7154, 'f1': 0.6781, 'auc': 0.698}\n",
      "Epoch 86: 100%|██████████| 1/1 [00:00<00:00,  9.66it/s, v_num=0]train: {'epoch': 86, 'eta': 4.3763, 'loss': 0.2257, 'lr': 0.006, 'params': 104256, 'time_iter': 0.0382, 'accuracy': 0.9246, 'precision': 0.892, 'recall': 0.9661, 'f1': 0.9276, 'auc': 0.9769}\n",
      "Epoch 87: 100%|██████████| 1/1 [00:00<00:00, 24.89it/s, v_num=0]val: {'epoch': 87, 'loss': 0.9958, 'lr': 0.0059, 'params': 104256, 'time_iter': 0.0163, 'accuracy': 0.6689, 'precision': 0.6545, 'recall': 0.7154, 'f1': 0.6836, 'auc': 0.6966}\n",
      "Epoch 87: 100%|██████████| 1/1 [00:00<00:00,  9.41it/s, v_num=0]train: {'epoch': 87, 'eta': 4.3377, 'loss': 0.2335, 'lr': 0.0059, 'params': 104256, 'time_iter': 0.0388, 'accuracy': 0.9164, 'precision': 0.8829, 'recall': 0.9602, 'f1': 0.9199, 'auc': 0.9752}\n",
      "Epoch 88: 100%|██████████| 1/1 [00:00<00:00, 25.82it/s, v_num=0]val: {'epoch': 88, 'loss': 1.024, 'lr': 0.0059, 'params': 104256, 'time_iter': 0.0167, 'accuracy': 0.6584, 'precision': 0.6408, 'recall': 0.7211, 'f1': 0.6786, 'auc': 0.6966}\n",
      "Epoch 88: 100%|██████████| 1/1 [00:00<00:00,  9.23it/s, v_num=0]train: {'epoch': 88, 'eta': 4.2974, 'loss': 0.2376, 'lr': 0.0059, 'params': 104256, 'time_iter': 0.0374, 'accuracy': 0.9145, 'precision': 0.879, 'recall': 0.9614, 'f1': 0.9184, 'auc': 0.9742}\n",
      "Epoch 89: 100%|██████████| 1/1 [00:00<00:00, 25.24it/s, v_num=0]val: {'epoch': 89, 'loss': 1.0297, 'lr': 0.0058, 'params': 104256, 'time_iter': 0.0162, 'accuracy': 0.6765, 'precision': 0.6598, 'recall': 0.7287, 'f1': 0.6925, 'auc': 0.7007}\n",
      "Epoch 89: 100%|██████████| 1/1 [00:00<00:00,  9.22it/s, v_num=0]train: {'epoch': 89, 'eta': 4.2581, 'loss': 0.229, 'lr': 0.0058, 'params': 104256, 'time_iter': 0.0383, 'accuracy': 0.9179, 'precision': 0.8837, 'recall': 0.9624, 'f1': 0.9214, 'auc': 0.9766}\n",
      "Epoch 90: 100%|██████████| 1/1 [00:00<00:00, 25.94it/s, v_num=0]val: {'epoch': 90, 'loss': 1.0271, 'lr': 0.0057, 'params': 104256, 'time_iter': 0.0162, 'accuracy': 0.6651, 'precision': 0.6532, 'recall': 0.704, 'f1': 0.6776, 'auc': 0.6972}\n",
      "Epoch 90: 100%|██████████| 1/1 [00:00<00:00,  5.78it/s, v_num=0]train: {'epoch': 90, 'eta': 4.2177, 'loss': 0.2125, 'lr': 0.0057, 'params': 104256, 'time_iter': 0.0372, 'accuracy': 0.9281, 'precision': 0.897, 'recall': 0.9673, 'f1': 0.9309, 'auc': 0.9796}\n",
      "Epoch 91: 100%|██████████| 1/1 [00:00<00:00, 23.15it/s, v_num=0]val: {'epoch': 91, 'loss': 1.0493, 'lr': 0.0056, 'params': 104256, 'time_iter': 0.0166, 'accuracy': 0.6651, 'precision': 0.6495, 'recall': 0.7173, 'f1': 0.6817, 'auc': 0.6952}\n",
      "Epoch 91: 100%|██████████| 1/1 [00:00<00:00,  8.78it/s, v_num=0]train: {'epoch': 91, 'eta': 4.1821, 'loss': 0.2139, 'lr': 0.0056, 'params': 104256, 'time_iter': 0.0414, 'accuracy': 0.9266, 'precision': 0.8955, 'recall': 0.9659, 'f1': 0.9294, 'auc': 0.9791}\n",
      "Epoch 92: 100%|██████████| 1/1 [00:00<00:00, 25.46it/s, v_num=0]val: {'epoch': 92, 'loss': 1.0797, 'lr': 0.0055, 'params': 104256, 'time_iter': 0.0163, 'accuracy': 0.6679, 'precision': 0.6528, 'recall': 0.7173, 'f1': 0.6835, 'auc': 0.6952}\n",
      "Epoch 92: 100%|██████████| 1/1 [00:00<00:00,  9.53it/s, v_num=0]train: {'epoch': 92, 'eta': 4.1425, 'loss': 0.2032, 'lr': 0.0055, 'params': 104256, 'time_iter': 0.038, 'accuracy': 0.9322, 'precision': 0.9025, 'recall': 0.969, 'f1': 0.9346, 'auc': 0.9817}\n",
      "Epoch 93: 100%|██████████| 1/1 [00:00<00:00, 25.02it/s, v_num=0]val: {'epoch': 93, 'loss': 1.0773, 'lr': 0.0055, 'params': 104256, 'time_iter': 0.0161, 'accuracy': 0.6613, 'precision': 0.6486, 'recall': 0.704, 'f1': 0.6752, 'auc': 0.6943}\n",
      "Epoch 93: 100%|██████████| 1/1 [00:00<00:00,  9.18it/s, v_num=0]train: {'epoch': 93, 'eta': 4.1037, 'loss': 0.2054, 'lr': 0.0055, 'params': 104256, 'time_iter': 0.0386, 'accuracy': 0.9305, 'precision': 0.8984, 'recall': 0.9709, 'f1': 0.9332, 'auc': 0.9818}\n",
      "Epoch 94: 100%|██████████| 1/1 [00:00<00:00, 25.13it/s, v_num=0]val: {'epoch': 94, 'loss': 1.0805, 'lr': 0.0054, 'params': 104256, 'time_iter': 0.0168, 'accuracy': 0.6641, 'precision': 0.651, 'recall': 0.7078, 'f1': 0.6782, 'auc': 0.691}\n",
      "Epoch 94: 100%|██████████| 1/1 [00:00<00:00,  8.61it/s, v_num=0]train: {'epoch': 94, 'eta': 4.0647, 'loss': 0.1966, 'lr': 0.0054, 'params': 104256, 'time_iter': 0.0385, 'accuracy': 0.9345, 'precision': 0.9069, 'recall': 0.9685, 'f1': 0.9367, 'auc': 0.9827}\n",
      "Epoch 95: 100%|██████████| 1/1 [00:00<00:00, 25.54it/s, v_num=0]val: {'epoch': 95, 'loss': 1.1126, 'lr': 0.0053, 'params': 104256, 'time_iter': 0.0169, 'accuracy': 0.6613, 'precision': 0.6481, 'recall': 0.7059, 'f1': 0.6757, 'auc': 0.6911}\n",
      "Epoch 95: 100%|██████████| 1/1 [00:00<00:00,  9.38it/s, v_num=0]train: {'epoch': 95, 'eta': 4.025, 'loss': 0.1963, 'lr': 0.0053, 'params': 104256, 'time_iter': 0.0378, 'accuracy': 0.9336, 'precision': 0.903, 'recall': 0.9716, 'f1': 0.936, 'auc': 0.9828}\n",
      "Epoch 96: 100%|██████████| 1/1 [00:00<00:00, 25.53it/s, v_num=0]val: {'epoch': 96, 'loss': 1.1319, 'lr': 0.0052, 'params': 104256, 'time_iter': 0.0162, 'accuracy': 0.6565, 'precision': 0.6415, 'recall': 0.7097, 'f1': 0.6739, 'auc': 0.6877}\n",
      "Epoch 96: 100%|██████████| 1/1 [00:00<00:00,  9.41it/s, v_num=0]train: {'epoch': 96, 'eta': 3.9854, 'loss': 0.19, 'lr': 0.0052, 'params': 104256, 'time_iter': 0.0378, 'accuracy': 0.9397, 'precision': 0.9085, 'recall': 0.978, 'f1': 0.942, 'auc': 0.9844}\n",
      "Epoch 97: 100%|██████████| 1/1 [00:00<00:00, 25.40it/s, v_num=0]val: {'epoch': 97, 'loss': 1.1416, 'lr': 0.0052, 'params': 104256, 'time_iter': 0.0166, 'accuracy': 0.6546, 'precision': 0.6422, 'recall': 0.6983, 'f1': 0.6691, 'auc': 0.6891}\n",
      "Epoch 97: 100%|██████████| 1/1 [00:00<00:00,  9.94it/s, v_num=0]train: {'epoch': 97, 'eta': 3.946, 'loss': 0.1879, 'lr': 0.0052, 'params': 104256, 'time_iter': 0.038, 'accuracy': 0.9388, 'precision': 0.9118, 'recall': 0.9716, 'f1': 0.9407, 'auc': 0.9844}\n",
      "Epoch 98: 100%|██████████| 1/1 [00:00<00:00, 24.49it/s, v_num=0]val: {'epoch': 98, 'loss': 1.1502, 'lr': 0.0051, 'params': 104256, 'time_iter': 0.0161, 'accuracy': 0.6518, 'precision': 0.6379, 'recall': 0.7021, 'f1': 0.6685, 'auc': 0.6858}\n",
      "Epoch 98: 100%|██████████| 1/1 [00:00<00:00,  7.38it/s, v_num=0]train: {'epoch': 98, 'eta': 3.9082, 'loss': 0.1831, 'lr': 0.0051, 'params': 104256, 'time_iter': 0.0395, 'accuracy': 0.9381, 'precision': 0.9104, 'recall': 0.9718, 'f1': 0.9401, 'auc': 0.9852}\n",
      "Epoch 99: 100%|██████████| 1/1 [00:00<00:00, 26.39it/s, v_num=0]val: {'epoch': 99, 'loss': 1.188, 'lr': 0.005, 'params': 104256, 'time_iter': 0.0163, 'accuracy': 0.6613, 'precision': 0.6466, 'recall': 0.7116, 'f1': 0.6775, 'auc': 0.6857}\n",
      "Epoch 99: 100%|██████████| 1/1 [00:00<00:00,  9.77it/s, v_num=0]train: {'epoch': 99, 'eta': 3.8673, 'loss': 0.1795, 'lr': 0.005, 'params': 104256, 'time_iter': 0.0366, 'accuracy': 0.9409, 'precision': 0.9129, 'recall': 0.9749, 'f1': 0.9429, 'auc': 0.986}\n",
      "Epoch 100: 100%|██████████| 1/1 [00:00<00:00, 25.10it/s, v_num=0]val: {'epoch': 100, 'loss': 1.1899, 'lr': 0.0049, 'params': 104256, 'time_iter': 0.016, 'accuracy': 0.6584, 'precision': 0.6447, 'recall': 0.7059, 'f1': 0.6739, 'auc': 0.6844}\n",
      "Epoch 100: 100%|██████████| 1/1 [00:00<00:00,  9.41it/s, v_num=0]train: {'epoch': 100, 'eta': 3.8285, 'loss': 0.1772, 'lr': 0.0049, 'params': 104256, 'time_iter': 0.0385, 'accuracy': 0.9421, 'precision': 0.9125, 'recall': 0.978, 'f1': 0.9441, 'auc': 0.9866}\n",
      "Epoch 101: 100%|██████████| 1/1 [00:00<00:00, 24.69it/s, v_num=0]val: {'epoch': 101, 'loss': 1.2055, 'lr': 0.0048, 'params': 104256, 'time_iter': 0.016, 'accuracy': 0.6641, 'precision': 0.6515, 'recall': 0.7059, 'f1': 0.6776, 'auc': 0.6836}\n",
      "Epoch 101: 100%|██████████| 1/1 [00:00<00:00,  9.40it/s, v_num=0]train: {'epoch': 101, 'eta': 3.7904, 'loss': 0.1725, 'lr': 0.0048, 'params': 104256, 'time_iter': 0.0392, 'accuracy': 0.9429, 'precision': 0.9176, 'recall': 0.9732, 'f1': 0.9446, 'auc': 0.9867}\n",
      "Epoch 102: 100%|██████████| 1/1 [00:00<00:00, 25.44it/s, v_num=0]val: {'epoch': 102, 'loss': 1.2304, 'lr': 0.0048, 'params': 104256, 'time_iter': 0.0165, 'accuracy': 0.6537, 'precision': 0.6421, 'recall': 0.6945, 'f1': 0.6673, 'auc': 0.6793}\n",
      "Epoch 102: 100%|██████████| 1/1 [00:00<00:00, 10.50it/s, v_num=0]train: {'epoch': 102, 'eta': 3.751, 'loss': 0.1708, 'lr': 0.0048, 'params': 104256, 'time_iter': 0.038, 'accuracy': 0.9395, 'precision': 0.9103, 'recall': 0.9751, 'f1': 0.9416, 'auc': 0.9875}\n",
      "Epoch 103: 100%|██████████| 1/1 [00:00<00:00, 26.30it/s, v_num=0]val: {'epoch': 103, 'loss': 1.266, 'lr': 0.0047, 'params': 104256, 'time_iter': 0.0164, 'accuracy': 0.6518, 'precision': 0.6413, 'recall': 0.6888, 'f1': 0.6642, 'auc': 0.6828}\n",
      "Epoch 103: 100%|██████████| 1/1 [00:00<00:00, 10.73it/s, v_num=0]train: {'epoch': 103, 'eta': 3.7105, 'loss': 0.1669, 'lr': 0.0047, 'params': 104256, 'time_iter': 0.0366, 'accuracy': 0.9457, 'precision': 0.9179, 'recall': 0.9789, 'f1': 0.9474, 'auc': 0.9879}\n",
      "Epoch 104: 100%|██████████| 1/1 [00:00<00:00, 25.29it/s, v_num=0]val: {'epoch': 104, 'loss': 1.244, 'lr': 0.0046, 'params': 104256, 'time_iter': 0.0168, 'accuracy': 0.649, 'precision': 0.6351, 'recall': 0.7002, 'f1': 0.6661, 'auc': 0.6724}\n",
      "Epoch 104: 100%|██████████| 1/1 [00:00<00:00, 10.22it/s, v_num=0]train: {'epoch': 104, 'eta': 3.6715, 'loss': 0.1683, 'lr': 0.0046, 'params': 104256, 'time_iter': 0.0382, 'accuracy': 0.9421, 'precision': 0.9149, 'recall': 0.9749, 'f1': 0.944, 'auc': 0.9875}\n",
      "Epoch 105: 100%|██████████| 1/1 [00:00<00:00, 25.00it/s, v_num=0]val: {'epoch': 105, 'loss': 1.3347, 'lr': 0.0045, 'params': 104256, 'time_iter': 0.0164, 'accuracy': 0.6385, 'precision': 0.6272, 'recall': 0.6831, 'f1': 0.654, 'auc': 0.679}\n",
      "Epoch 105: 100%|██████████| 1/1 [00:00<00:00, 10.84it/s, v_num=0]train: {'epoch': 105, 'eta': 3.6328, 'loss': 0.1765, 'lr': 0.0045, 'params': 104256, 'time_iter': 0.0386, 'accuracy': 0.9384, 'precision': 0.9112, 'recall': 0.9716, 'f1': 0.9404, 'auc': 0.9859}\n",
      "Epoch 106: 100%|██████████| 1/1 [00:00<00:00, 23.43it/s, v_num=0]val: {'epoch': 106, 'loss': 1.2831, 'lr': 0.0045, 'params': 104256, 'time_iter': 0.0163, 'accuracy': 0.6471, 'precision': 0.6348, 'recall': 0.6926, 'f1': 0.6624, 'auc': 0.6741}\n",
      "Epoch 106: 100%|██████████| 1/1 [00:00<00:00,  9.08it/s, v_num=0]train: {'epoch': 106, 'eta': 3.5965, 'loss': 0.1798, 'lr': 0.0045, 'params': 104256, 'time_iter': 0.0414, 'accuracy': 0.9358, 'precision': 0.903, 'recall': 0.9766, 'f1': 0.9384, 'auc': 0.9863}\n",
      "Epoch 107: 100%|██████████| 1/1 [00:00<00:00, 25.07it/s, v_num=0]val: {'epoch': 107, 'loss': 1.2955, 'lr': 0.0044, 'params': 104256, 'time_iter': 0.0161, 'accuracy': 0.6452, 'precision': 0.6308, 'recall': 0.7002, 'f1': 0.6637, 'auc': 0.6747}\n",
      "Epoch 107: 100%|██████████| 1/1 [00:00<00:00, 10.38it/s, v_num=0]train: {'epoch': 107, 'eta': 3.5578, 'loss': 0.1734, 'lr': 0.0044, 'params': 104256, 'time_iter': 0.0386, 'accuracy': 0.9401, 'precision': 0.9157, 'recall': 0.9695, 'f1': 0.9418, 'auc': 0.986}\n",
      "Epoch 108: 100%|██████████| 1/1 [00:00<00:00, 25.27it/s, v_num=0]val: {'epoch': 108, 'loss': 1.3472, 'lr': 0.0043, 'params': 104256, 'time_iter': 0.0162, 'accuracy': 0.6376, 'precision': 0.6252, 'recall': 0.6869, 'f1': 0.6546, 'auc': 0.6761}\n",
      "Epoch 108: 100%|██████████| 1/1 [00:00<00:00, 11.02it/s, v_num=0]train: {'epoch': 108, 'eta': 3.5188, 'loss': 0.1595, 'lr': 0.0043, 'params': 104256, 'time_iter': 0.0383, 'accuracy': 0.9451, 'precision': 0.9183, 'recall': 0.977, 'f1': 0.9468, 'auc': 0.9889}\n",
      "Epoch 109: 100%|██████████| 1/1 [00:00<00:00, 25.40it/s, v_num=0]val: {'epoch': 109, 'loss': 1.3324, 'lr': 0.0042, 'params': 104256, 'time_iter': 0.0166, 'accuracy': 0.6357, 'precision': 0.6248, 'recall': 0.6793, 'f1': 0.6509, 'auc': 0.6784}\n",
      "Epoch 109: 100%|██████████| 1/1 [00:00<00:00,  9.75it/s, v_num=0]train: {'epoch': 109, 'eta': 3.4796, 'loss': 0.164, 'lr': 0.0042, 'params': 104256, 'time_iter': 0.0381, 'accuracy': 0.9437, 'precision': 0.913, 'recall': 0.9808, 'f1': 0.9457, 'auc': 0.9889}\n",
      "Epoch 110: 100%|██████████| 1/1 [00:00<00:00, 25.90it/s, v_num=0]val: {'epoch': 110, 'loss': 1.3132, 'lr': 0.0041, 'params': 104256, 'time_iter': 0.0164, 'accuracy': 0.6414, 'precision': 0.6291, 'recall': 0.6888, 'f1': 0.6576, 'auc': 0.6756}\n",
      "Epoch 110: 100%|██████████| 1/1 [00:00<00:00,  6.52it/s, v_num=0]train: {'epoch': 110, 'eta': 3.4399, 'loss': 0.1544, 'lr': 0.0041, 'params': 104256, 'time_iter': 0.0373, 'accuracy': 0.9498, 'precision': 0.9287, 'recall': 0.9744, 'f1': 0.951, 'auc': 0.9893}\n",
      "Epoch 111: 100%|██████████| 1/1 [00:00<00:00, 25.50it/s, v_num=0]val: {'epoch': 111, 'loss': 1.3365, 'lr': 0.0041, 'params': 104256, 'time_iter': 0.0156, 'accuracy': 0.6452, 'precision': 0.6299, 'recall': 0.704, 'f1': 0.6649, 'auc': 0.6774}\n",
      "Epoch 111: 100%|██████████| 1/1 [00:00<00:00,  9.05it/s, v_num=0]train: {'epoch': 111, 'eta': 3.4006, 'loss': 0.1574, 'lr': 0.0041, 'params': 104256, 'time_iter': 0.0379, 'accuracy': 0.948, 'precision': 0.9258, 'recall': 0.9742, 'f1': 0.9494, 'auc': 0.9887}\n",
      "Epoch 112: 100%|██████████| 1/1 [00:00<00:00, 23.97it/s, v_num=0]val: {'epoch': 112, 'loss': 1.3747, 'lr': 0.004, 'params': 104256, 'time_iter': 0.0167, 'accuracy': 0.6423, 'precision': 0.6284, 'recall': 0.6964, 'f1': 0.6607, 'auc': 0.6782}\n",
      "Epoch 112: 100%|██████████| 1/1 [00:00<00:00, 10.40it/s, v_num=0]train: {'epoch': 112, 'eta': 3.3633, 'loss': 0.1467, 'lr': 0.004, 'params': 104256, 'time_iter': 0.0404, 'accuracy': 0.9504, 'precision': 0.9253, 'recall': 0.9799, 'f1': 0.9518, 'auc': 0.9909}\n",
      "Epoch 113: 100%|██████████| 1/1 [00:00<00:00, 25.72it/s, v_num=0]val: {'epoch': 113, 'loss': 1.3579, 'lr': 0.0039, 'params': 104256, 'time_iter': 0.0164, 'accuracy': 0.6433, 'precision': 0.6291, 'recall': 0.6983, 'f1': 0.6619, 'auc': 0.6788}\n",
      "Epoch 113: 100%|██████████| 1/1 [00:00<00:00,  9.54it/s, v_num=0]train: {'epoch': 113, 'eta': 3.3238, 'loss': 0.1513, 'lr': 0.0039, 'params': 104256, 'time_iter': 0.0376, 'accuracy': 0.9478, 'precision': 0.9197, 'recall': 0.9813, 'f1': 0.9495, 'auc': 0.9908}\n",
      "Epoch 114: 100%|██████████| 1/1 [00:00<00:00, 25.49it/s, v_num=0]val: {'epoch': 114, 'loss': 1.3453, 'lr': 0.0038, 'params': 104256, 'time_iter': 0.016, 'accuracy': 0.6347, 'precision': 0.622, 'recall': 0.6869, 'f1': 0.6528, 'auc': 0.6767}\n",
      "Epoch 114: 100%|██████████| 1/1 [00:00<00:00,  9.39it/s, v_num=0]train: {'epoch': 114, 'eta': 3.2847, 'loss': 0.1402, 'lr': 0.0038, 'params': 104256, 'time_iter': 0.038, 'accuracy': 0.9558, 'precision': 0.9349, 'recall': 0.9799, 'f1': 0.9569, 'auc': 0.9915}\n",
      "Epoch 115: 100%|██████████| 1/1 [00:00<00:00, 20.07it/s, v_num=0]val: {'epoch': 115, 'loss': 1.3762, 'lr': 0.0038, 'params': 104256, 'time_iter': 0.0177, 'accuracy': 0.6423, 'precision': 0.6289, 'recall': 0.6945, 'f1': 0.6601, 'auc': 0.6779}\n",
      "Epoch 115: 100%|██████████| 1/1 [00:00<00:00,  8.73it/s, v_num=0]train: {'epoch': 115, 'eta': 3.2532, 'loss': 0.1457, 'lr': 0.0038, 'params': 104256, 'time_iter': 0.0486, 'accuracy': 0.953, 'precision': 0.9336, 'recall': 0.9754, 'f1': 0.954, 'auc': 0.9904}\n",
      "Epoch 116: 100%|██████████| 1/1 [00:00<00:00, 24.34it/s, v_num=0]val: {'epoch': 116, 'loss': 1.4135, 'lr': 0.0037, 'params': 104256, 'time_iter': 0.0167, 'accuracy': 0.6423, 'precision': 0.628, 'recall': 0.6983, 'f1': 0.6613, 'auc': 0.6771}\n",
      "Epoch 116: 100%|██████████| 1/1 [00:00<00:00,  7.87it/s, v_num=0]train: {'epoch': 116, 'eta': 3.2152, 'loss': 0.1352, 'lr': 0.0037, 'params': 104256, 'time_iter': 0.0397, 'accuracy': 0.9577, 'precision': 0.9369, 'recall': 0.9815, 'f1': 0.9587, 'auc': 0.9922}\n",
      "Epoch 117: 100%|██████████| 1/1 [00:00<00:00, 25.18it/s, v_num=0]val: {'epoch': 117, 'loss': 1.3992, 'lr': 0.0036, 'params': 104256, 'time_iter': 0.0159, 'accuracy': 0.6404, 'precision': 0.6267, 'recall': 0.6945, 'f1': 0.6589, 'auc': 0.6767}\n",
      "Epoch 117: 100%|██████████| 1/1 [00:00<00:00,  6.80it/s, v_num=0]train: {'epoch': 117, 'eta': 3.1762, 'loss': 0.1389, 'lr': 0.0036, 'params': 104256, 'time_iter': 0.0384, 'accuracy': 0.9538, 'precision': 0.9289, 'recall': 0.983, 'f1': 0.9551, 'auc': 0.9922}\n",
      "Epoch 118: 100%|██████████| 1/1 [00:00<00:00, 24.45it/s, v_num=0]val: {'epoch': 118, 'loss': 1.3994, 'lr': 0.0035, 'params': 104256, 'time_iter': 0.0162, 'accuracy': 0.6376, 'precision': 0.6265, 'recall': 0.6812, 'f1': 0.6527, 'auc': 0.6749}\n",
      "Epoch 118: 100%|██████████| 1/1 [00:00<00:00, 10.27it/s, v_num=0]train: {'epoch': 118, 'eta': 3.1381, 'loss': 0.1311, 'lr': 0.0035, 'params': 104256, 'time_iter': 0.0396, 'accuracy': 0.9596, 'precision': 0.939, 'recall': 0.9832, 'f1': 0.9606, 'auc': 0.9929}\n",
      "Epoch 119: 100%|██████████| 1/1 [00:00<00:00, 24.99it/s, v_num=0]val: {'epoch': 119, 'loss': 1.4224, 'lr': 0.0035, 'params': 104256, 'time_iter': 0.0165, 'accuracy': 0.6423, 'precision': 0.6298, 'recall': 0.6907, 'f1': 0.6588, 'auc': 0.6751}\n",
      "Epoch 119: 100%|██████████| 1/1 [00:00<00:00,  9.62it/s, v_num=0]train: {'epoch': 119, 'eta': 3.0993, 'loss': 0.1314, 'lr': 0.0035, 'params': 104256, 'time_iter': 0.0387, 'accuracy': 0.96, 'precision': 0.9414, 'recall': 0.9811, 'f1': 0.9608, 'auc': 0.9925}\n",
      "Epoch 120: 100%|██████████| 1/1 [00:00<00:00, 25.48it/s, v_num=0]val: {'epoch': 120, 'loss': 1.4426, 'lr': 0.0034, 'params': 104256, 'time_iter': 0.0164, 'accuracy': 0.6442, 'precision': 0.6315, 'recall': 0.6926, 'f1': 0.6606, 'auc': 0.6744}\n",
      "Epoch 120: 100%|██████████| 1/1 [00:00<00:00,  9.18it/s, v_num=0]train: {'epoch': 120, 'eta': 3.06, 'loss': 0.127, 'lr': 0.0034, 'params': 104256, 'time_iter': 0.0379, 'accuracy': 0.9622, 'precision': 0.9449, 'recall': 0.9818, 'f1': 0.963, 'auc': 0.9931}\n",
      "Epoch 121: 100%|██████████| 1/1 [00:00<00:00, 24.86it/s, v_num=0]val: {'epoch': 121, 'loss': 1.4561, 'lr': 0.0033, 'params': 104256, 'time_iter': 0.0181, 'accuracy': 0.6414, 'precision': 0.6278, 'recall': 0.6945, 'f1': 0.6595, 'auc': 0.6734}\n",
      "Epoch 121: 100%|██████████| 1/1 [00:00<00:00,  9.13it/s, v_num=0]train: {'epoch': 121, 'eta': 3.0214, 'loss': 0.1254, 'lr': 0.0033, 'params': 104256, 'time_iter': 0.0389, 'accuracy': 0.9634, 'precision': 0.9442, 'recall': 0.9851, 'f1': 0.9642, 'auc': 0.9937}\n",
      "Epoch 122: 100%|██████████| 1/1 [00:00<00:00, 25.51it/s, v_num=0]val: {'epoch': 122, 'loss': 1.4563, 'lr': 0.0032, 'params': 104256, 'time_iter': 0.0155, 'accuracy': 0.6395, 'precision': 0.6261, 'recall': 0.6926, 'f1': 0.6577, 'auc': 0.6727}\n",
      "Epoch 122: 100%|██████████| 1/1 [00:00<00:00,  9.36it/s, v_num=0]train: {'epoch': 122, 'eta': 2.9821, 'loss': 0.1219, 'lr': 0.0032, 'params': 104256, 'time_iter': 0.0379, 'accuracy': 0.965, 'precision': 0.9468, 'recall': 0.9853, 'f1': 0.9657, 'auc': 0.9941}\n",
      "Epoch 123: 100%|██████████| 1/1 [00:00<00:00, 24.93it/s, v_num=0]val: {'epoch': 123, 'loss': 1.4674, 'lr': 0.0032, 'params': 104256, 'time_iter': 0.0165, 'accuracy': 0.6395, 'precision': 0.6261, 'recall': 0.6926, 'f1': 0.6577, 'auc': 0.6714}\n",
      "Epoch 123: 100%|██████████| 1/1 [00:00<00:00, 11.12it/s, v_num=0]train: {'epoch': 123, 'eta': 2.9434, 'loss': 0.1198, 'lr': 0.0032, 'params': 104256, 'time_iter': 0.0388, 'accuracy': 0.9651, 'precision': 0.9488, 'recall': 0.9832, 'f1': 0.9657, 'auc': 0.994}\n",
      "Epoch 124: 100%|██████████| 1/1 [00:00<00:00, 25.14it/s, v_num=0]val: {'epoch': 124, 'loss': 1.4863, 'lr': 0.0031, 'params': 104256, 'time_iter': 0.0162, 'accuracy': 0.6461, 'precision': 0.6328, 'recall': 0.6964, 'f1': 0.6631, 'auc': 0.6709}\n",
      "Epoch 124: 100%|██████████| 1/1 [00:00<00:00,  6.57it/s, v_num=0]train: {'epoch': 124, 'eta': 2.9045, 'loss': 0.1172, 'lr': 0.0031, 'params': 104256, 'time_iter': 0.0384, 'accuracy': 0.9665, 'precision': 0.951, 'recall': 0.9837, 'f1': 0.9671, 'auc': 0.9943}\n",
      "Epoch 125: 100%|██████████| 1/1 [00:00<00:00, 25.09it/s, v_num=0]val: {'epoch': 125, 'loss': 1.5046, 'lr': 0.003, 'params': 104256, 'time_iter': 0.0167, 'accuracy': 0.6423, 'precision': 0.6302, 'recall': 0.6888, 'f1': 0.6582, 'auc': 0.6714}\n",
      "Epoch 125: 100%|██████████| 1/1 [00:00<00:00,  9.76it/s, v_num=0]train: {'epoch': 125, 'eta': 2.8657, 'loss': 0.1147, 'lr': 0.003, 'params': 104256, 'time_iter': 0.0385, 'accuracy': 0.9673, 'precision': 0.9507, 'recall': 0.9858, 'f1': 0.9679, 'auc': 0.9947}\n",
      "Epoch 126: 100%|██████████| 1/1 [00:00<00:00, 24.85it/s, v_num=0]val: {'epoch': 126, 'loss': 1.5002, 'lr': 0.0029, 'params': 104256, 'time_iter': 0.0167, 'accuracy': 0.6366, 'precision': 0.6237, 'recall': 0.6888, 'f1': 0.6546, 'auc': 0.6708}\n",
      "Epoch 126: 100%|██████████| 1/1 [00:00<00:00,  9.64it/s, v_num=0]train: {'epoch': 126, 'eta': 2.8271, 'loss': 0.1127, 'lr': 0.0029, 'params': 104256, 'time_iter': 0.0389, 'accuracy': 0.9689, 'precision': 0.9525, 'recall': 0.987, 'f1': 0.9694, 'auc': 0.995}\n",
      "Epoch 127: 100%|██████████| 1/1 [00:00<00:00, 24.31it/s, v_num=0]val: {'epoch': 127, 'loss': 1.5128, 'lr': 0.0029, 'params': 104256, 'time_iter': 0.0216, 'accuracy': 0.6404, 'precision': 0.628, 'recall': 0.6888, 'f1': 0.657, 'auc': 0.67}\n",
      "Epoch 127: 100%|██████████| 1/1 [00:00<00:00,  6.09it/s, v_num=0]train: {'epoch': 127, 'eta': 2.789, 'loss': 0.1099, 'lr': 0.0029, 'params': 104256, 'time_iter': 0.0398, 'accuracy': 0.9693, 'precision': 0.9552, 'recall': 0.9848, 'f1': 0.9698, 'auc': 0.9951}\n",
      "Epoch 128: 100%|██████████| 1/1 [00:00<00:00, 25.37it/s, v_num=0]val: {'epoch': 128, 'loss': 1.5326, 'lr': 0.0028, 'params': 104256, 'time_iter': 0.0178, 'accuracy': 0.6319, 'precision': 0.6196, 'recall': 0.6831, 'f1': 0.6498, 'auc': 0.6686}\n",
      "Epoch 128: 100%|██████████| 1/1 [00:00<00:00,  8.94it/s, v_num=0]train: {'epoch': 128, 'eta': 2.7499, 'loss': 0.1085, 'lr': 0.0028, 'params': 104256, 'time_iter': 0.0381, 'accuracy': 0.9697, 'precision': 0.9544, 'recall': 0.9865, 'f1': 0.9702, 'auc': 0.9952}\n",
      "Epoch 129: 100%|██████████| 1/1 [00:00<00:00, 25.70it/s, v_num=0]val: {'epoch': 129, 'loss': 1.5531, 'lr': 0.0027, 'params': 104256, 'time_iter': 0.0162, 'accuracy': 0.63, 'precision': 0.6179, 'recall': 0.6812, 'f1': 0.648, 'auc': 0.6686}\n",
      "Epoch 129: 100%|██████████| 1/1 [00:00<00:00,  9.11it/s, v_num=0]train: {'epoch': 129, 'eta': 2.7105, 'loss': 0.1064, 'lr': 0.0027, 'params': 104256, 'time_iter': 0.0376, 'accuracy': 0.9714, 'precision': 0.9567, 'recall': 0.9875, 'f1': 0.9718, 'auc': 0.9956}\n",
      "Epoch 130: 100%|██████████| 1/1 [00:00<00:00, 21.03it/s, v_num=0]val: {'epoch': 130, 'loss': 1.5462, 'lr': 0.0027, 'params': 104256, 'time_iter': 0.0216, 'accuracy': 0.63, 'precision': 0.6179, 'recall': 0.6812, 'f1': 0.648, 'auc': 0.6661}\n",
      "Epoch 130: 100%|██████████| 1/1 [00:00<00:00,  7.86it/s, v_num=0]train: {'epoch': 130, 'eta': 2.6756, 'loss': 0.1051, 'lr': 0.0027, 'params': 104256, 'time_iter': 0.046, 'accuracy': 0.9706, 'precision': 0.9549, 'recall': 0.9879, 'f1': 0.9711, 'auc': 0.9957}\n",
      "Epoch 131: 100%|██████████| 1/1 [00:00<00:00, 24.58it/s, v_num=0]val: {'epoch': 131, 'loss': 1.5797, 'lr': 0.0026, 'params': 104256, 'time_iter': 0.0161, 'accuracy': 0.6271, 'precision': 0.6163, 'recall': 0.6736, 'f1': 0.6437, 'auc': 0.6667}\n",
      "Epoch 131: 100%|██████████| 1/1 [00:00<00:00,  7.10it/s, v_num=0]train: {'epoch': 131, 'eta': 2.6372, 'loss': 0.1044, 'lr': 0.0026, 'params': 104256, 'time_iter': 0.0394, 'accuracy': 0.9712, 'precision': 0.9573, 'recall': 0.9865, 'f1': 0.9717, 'auc': 0.9955}\n",
      "Epoch 132: 100%|██████████| 1/1 [00:00<00:00, 24.69it/s, v_num=0]val: {'epoch': 132, 'loss': 1.5879, 'lr': 0.0025, 'params': 104256, 'time_iter': 0.0172, 'accuracy': 0.629, 'precision': 0.6172, 'recall': 0.6793, 'f1': 0.6468, 'auc': 0.6644}\n",
      "Epoch 132: 100%|██████████| 1/1 [00:00<00:00,  9.24it/s, v_num=0]train: {'epoch': 132, 'eta': 2.5986, 'loss': 0.1042, 'lr': 0.0025, 'params': 104256, 'time_iter': 0.0391, 'accuracy': 0.9685, 'precision': 0.9549, 'recall': 0.9834, 'f1': 0.969, 'auc': 0.9956}\n",
      "Epoch 133: 100%|██████████| 1/1 [00:00<00:00, 21.85it/s, v_num=0]val: {'epoch': 133, 'loss': 1.6132, 'lr': 0.0025, 'params': 104256, 'time_iter': 0.0158, 'accuracy': 0.6271, 'precision': 0.6155, 'recall': 0.6774, 'f1': 0.645, 'auc': 0.6637}\n",
      "Epoch 133: 100%|██████████| 1/1 [00:00<00:00,  8.96it/s, v_num=0]train: {'epoch': 133, 'eta': 2.5626, 'loss': 0.1014, 'lr': 0.0025, 'params': 104256, 'time_iter': 0.0444, 'accuracy': 0.9724, 'precision': 0.9584, 'recall': 0.9877, 'f1': 0.9728, 'auc': 0.9958}\n",
      "Epoch 134: 100%|██████████| 1/1 [00:00<00:00, 26.61it/s, v_num=0]val: {'epoch': 134, 'loss': 1.6223, 'lr': 0.0024, 'params': 104256, 'time_iter': 0.0164, 'accuracy': 0.6252, 'precision': 0.6138, 'recall': 0.6755, 'f1': 0.6432, 'auc': 0.6631}\n",
      "Epoch 134: 100%|██████████| 1/1 [00:00<00:00,  9.28it/s, v_num=0]train: {'epoch': 134, 'eta': 2.5225, 'loss': 0.0976, 'lr': 0.0024, 'params': 104256, 'time_iter': 0.0363, 'accuracy': 0.973, 'precision': 0.9585, 'recall': 0.9889, 'f1': 0.9734, 'auc': 0.9963}\n",
      "Epoch 135: 100%|██████████| 1/1 [00:00<00:00, 24.81it/s, v_num=0]val: {'epoch': 135, 'loss': 1.629, 'lr': 0.0023, 'params': 104256, 'time_iter': 0.0161, 'accuracy': 0.6224, 'precision': 0.611, 'recall': 0.6736, 'f1': 0.6408, 'auc': 0.6615}\n",
      "Epoch 135: 100%|██████████| 1/1 [00:00<00:00,  9.45it/s, v_num=0]train: {'epoch': 135, 'eta': 2.4838, 'loss': 0.0949, 'lr': 0.0023, 'params': 104256, 'time_iter': 0.039, 'accuracy': 0.9748, 'precision': 0.9618, 'recall': 0.9889, 'f1': 0.9751, 'auc': 0.9965}\n",
      "Epoch 136: 100%|██████████| 1/1 [00:00<00:00, 24.36it/s, v_num=0]val: {'epoch': 136, 'loss': 1.6545, 'lr': 0.0023, 'params': 104256, 'time_iter': 0.0166, 'accuracy': 0.6243, 'precision': 0.6131, 'recall': 0.6736, 'f1': 0.642, 'auc': 0.6613}\n",
      "Epoch 136: 100%|██████████| 1/1 [00:00<00:00,  9.13it/s, v_num=0]train: {'epoch': 136, 'eta': 2.4454, 'loss': 0.0943, 'lr': 0.0023, 'params': 104256, 'time_iter': 0.0397, 'accuracy': 0.9759, 'precision': 0.9644, 'recall': 0.9882, 'f1': 0.9761, 'auc': 0.9965}\n",
      "Epoch 137: 100%|██████████| 1/1 [00:00<00:00, 22.34it/s, v_num=0]val: {'epoch': 137, 'loss': 1.662, 'lr': 0.0022, 'params': 104256, 'time_iter': 0.0166, 'accuracy': 0.6233, 'precision': 0.6117, 'recall': 0.6755, 'f1': 0.642, 'auc': 0.6604}\n",
      "Epoch 137: 100%|██████████| 1/1 [00:00<00:00,  8.74it/s, v_num=0]train: {'epoch': 137, 'eta': 2.4086, 'loss': 0.0929, 'lr': 0.0022, 'params': 104256, 'time_iter': 0.0433, 'accuracy': 0.9748, 'precision': 0.9605, 'recall': 0.9903, 'f1': 0.9752, 'auc': 0.9968}\n",
      "Epoch 138: 100%|██████████| 1/1 [00:00<00:00, 25.47it/s, v_num=0]val: {'epoch': 138, 'loss': 1.6701, 'lr': 0.0021, 'params': 104256, 'time_iter': 0.0167, 'accuracy': 0.6186, 'precision': 0.6079, 'recall': 0.6679, 'f1': 0.6365, 'auc': 0.6606}\n",
      "Epoch 138: 100%|██████████| 1/1 [00:00<00:00,  9.26it/s, v_num=0]train: {'epoch': 138, 'eta': 2.3693, 'loss': 0.0899, 'lr': 0.0021, 'params': 104256, 'time_iter': 0.038, 'accuracy': 0.9774, 'precision': 0.966, 'recall': 0.9896, 'f1': 0.9777, 'auc': 0.9969}\n",
      "Epoch 139: 100%|██████████| 1/1 [00:00<00:00, 25.35it/s, v_num=0]val: {'epoch': 139, 'loss': 1.6854, 'lr': 0.0021, 'params': 104256, 'time_iter': 0.0163, 'accuracy': 0.6186, 'precision': 0.6076, 'recall': 0.6698, 'f1': 0.6372, 'auc': 0.6599}\n",
      "Epoch 139: 100%|██████████| 1/1 [00:00<00:00,  9.32it/s, v_num=0]train: {'epoch': 139, 'eta': 2.3302, 'loss': 0.0882, 'lr': 0.0021, 'params': 104256, 'time_iter': 0.0381, 'accuracy': 0.978, 'precision': 0.9674, 'recall': 0.9893, 'f1': 0.9782, 'auc': 0.997}\n",
      "Epoch 140: 100%|██████████| 1/1 [00:00<00:00, 25.28it/s, v_num=0]val: {'epoch': 140, 'loss': 1.6969, 'lr': 0.002, 'params': 104256, 'time_iter': 0.0171, 'accuracy': 0.6205, 'precision': 0.6085, 'recall': 0.6755, 'f1': 0.6403, 'auc': 0.6595}\n",
      "Epoch 140: 100%|██████████| 1/1 [00:00<00:00,  9.13it/s, v_num=0]train: {'epoch': 140, 'eta': 2.2911, 'loss': 0.0874, 'lr': 0.002, 'params': 104256, 'time_iter': 0.0382, 'accuracy': 0.9776, 'precision': 0.9665, 'recall': 0.9896, 'f1': 0.9779, 'auc': 0.9971}\n",
      "Epoch 141: 100%|██████████| 1/1 [00:00<00:00, 25.32it/s, v_num=0]val: {'epoch': 141, 'loss': 1.7142, 'lr': 0.0019, 'params': 104256, 'time_iter': 0.016, 'accuracy': 0.6186, 'precision': 0.6072, 'recall': 0.6717, 'f1': 0.6378, 'auc': 0.6595}\n",
      "Epoch 141: 100%|██████████| 1/1 [00:00<00:00,  9.13it/s, v_num=0]train: {'epoch': 141, 'eta': 2.252, 'loss': 0.0855, 'lr': 0.0019, 'params': 104256, 'time_iter': 0.0382, 'accuracy': 0.9787, 'precision': 0.9683, 'recall': 0.9898, 'f1': 0.9789, 'auc': 0.9972}\n",
      "Epoch 142: 100%|██████████| 1/1 [00:00<00:00, 24.54it/s, v_num=0]val: {'epoch': 142, 'loss': 1.7215, 'lr': 0.0019, 'params': 104256, 'time_iter': 0.0162, 'accuracy': 0.6195, 'precision': 0.609, 'recall': 0.6679, 'f1': 0.6371, 'auc': 0.6586}\n",
      "Epoch 142: 100%|██████████| 1/1 [00:00<00:00,  9.41it/s, v_num=0]train: {'epoch': 142, 'eta': 2.2134, 'loss': 0.0837, 'lr': 0.0019, 'params': 104256, 'time_iter': 0.0394, 'accuracy': 0.9788, 'precision': 0.9683, 'recall': 0.9901, 'f1': 0.979, 'auc': 0.9974}\n",
      "Epoch 143: 100%|██████████| 1/1 [00:00<00:00, 25.22it/s, v_num=0]val: {'epoch': 143, 'loss': 1.7297, 'lr': 0.0018, 'params': 104256, 'time_iter': 0.0165, 'accuracy': 0.6195, 'precision': 0.6082, 'recall': 0.6717, 'f1': 0.6384, 'auc': 0.6576}\n",
      "Epoch 143: 100%|██████████| 1/1 [00:00<00:00,  9.53it/s, v_num=0]train: {'epoch': 143, 'eta': 2.1744, 'loss': 0.0823, 'lr': 0.0018, 'params': 104256, 'time_iter': 0.0384, 'accuracy': 0.9796, 'precision': 0.9699, 'recall': 0.9901, 'f1': 0.9799, 'auc': 0.9975}\n",
      "Epoch 144: 100%|██████████| 1/1 [00:00<00:00, 24.90it/s, v_num=0]val: {'epoch': 144, 'loss': 1.7511, 'lr': 0.0018, 'params': 104256, 'time_iter': 0.0168, 'accuracy': 0.6176, 'precision': 0.6069, 'recall': 0.6679, 'f1': 0.636, 'auc': 0.6574}\n",
      "Epoch 144: 100%|██████████| 1/1 [00:00<00:00,  9.13it/s, v_num=0]train: {'epoch': 144, 'eta': 2.1356, 'loss': 0.0811, 'lr': 0.0018, 'params': 104256, 'time_iter': 0.0389, 'accuracy': 0.9798, 'precision': 0.9701, 'recall': 0.9901, 'f1': 0.98, 'auc': 0.9975}\n",
      "Epoch 145: 100%|██████████| 1/1 [00:00<00:00, 24.15it/s, v_num=0]val: {'epoch': 145, 'loss': 1.7567, 'lr': 0.0017, 'params': 104256, 'time_iter': 0.0173, 'accuracy': 0.6195, 'precision': 0.6086, 'recall': 0.6698, 'f1': 0.6378, 'auc': 0.6567}\n",
      "Epoch 145: 100%|██████████| 1/1 [00:00<00:00,  8.72it/s, v_num=0]train: {'epoch': 145, 'eta': 2.0972, 'loss': 0.0796, 'lr': 0.0017, 'params': 104256, 'time_iter': 0.0401, 'accuracy': 0.9808, 'precision': 0.9721, 'recall': 0.9901, 'f1': 0.981, 'auc': 0.9976}\n",
      "Epoch 146: 100%|██████████| 1/1 [00:00<00:00, 25.34it/s, v_num=0]val: {'epoch': 146, 'loss': 1.7612, 'lr': 0.0016, 'params': 104256, 'time_iter': 0.0165, 'accuracy': 0.6176, 'precision': 0.6073, 'recall': 0.666, 'f1': 0.6353, 'auc': 0.6565}\n",
      "Epoch 146: 100%|██████████| 1/1 [00:00<00:00,  9.16it/s, v_num=0]train: {'epoch': 146, 'eta': 2.0581, 'loss': 0.078, 'lr': 0.0016, 'params': 104256, 'time_iter': 0.0381, 'accuracy': 0.9817, 'precision': 0.9724, 'recall': 0.9915, 'f1': 0.9818, 'auc': 0.9977}\n",
      "Epoch 147: 100%|██████████| 1/1 [00:00<00:00, 23.71it/s, v_num=0]val: {'epoch': 147, 'loss': 1.7758, 'lr': 0.0016, 'params': 104256, 'time_iter': 0.0161, 'accuracy': 0.6167, 'precision': 0.607, 'recall': 0.6622, 'f1': 0.6334, 'auc': 0.657}\n",
      "Epoch 147: 100%|██████████| 1/1 [00:00<00:00,  9.35it/s, v_num=0]train: {'epoch': 147, 'eta': 2.02, 'loss': 0.077, 'lr': 0.0016, 'params': 104256, 'time_iter': 0.0409, 'accuracy': 0.9819, 'precision': 0.9733, 'recall': 0.991, 'f1': 0.9821, 'auc': 0.9978}\n",
      "Epoch 148: 100%|██████████| 1/1 [00:00<00:00, 23.91it/s, v_num=0]val: {'epoch': 148, 'loss': 1.7823, 'lr': 0.0015, 'params': 104256, 'time_iter': 0.0174, 'accuracy': 0.6195, 'precision': 0.609, 'recall': 0.6679, 'f1': 0.6371, 'auc': 0.6566}\n",
      "Epoch 148: 100%|██████████| 1/1 [00:00<00:00,  9.45it/s, v_num=0]train: {'epoch': 148, 'eta': 1.9817, 'loss': 0.0759, 'lr': 0.0015, 'params': 104256, 'time_iter': 0.0405, 'accuracy': 0.9821, 'precision': 0.9746, 'recall': 0.9901, 'f1': 0.9823, 'auc': 0.9979}\n",
      "Epoch 149: 100%|██████████| 1/1 [00:00<00:00, 25.34it/s, v_num=0]val: {'epoch': 149, 'loss': 1.7908, 'lr': 0.0015, 'params': 104256, 'time_iter': 0.0181, 'accuracy': 0.6167, 'precision': 0.6059, 'recall': 0.6679, 'f1': 0.6354, 'auc': 0.6563}\n",
      "Epoch 149: 100%|██████████| 1/1 [00:00<00:00,  9.32it/s, v_num=0]train: {'epoch': 149, 'eta': 1.9426, 'loss': 0.0745, 'lr': 0.0015, 'params': 104256, 'time_iter': 0.038, 'accuracy': 0.9827, 'precision': 0.9748, 'recall': 0.991, 'f1': 0.9829, 'auc': 0.998}\n",
      "Epoch 150: 100%|██████████| 1/1 [00:00<00:00, 25.10it/s, v_num=0]val: {'epoch': 150, 'loss': 1.8023, 'lr': 0.0014, 'params': 104256, 'time_iter': 0.0177, 'accuracy': 0.6186, 'precision': 0.6079, 'recall': 0.6679, 'f1': 0.6365, 'auc': 0.6563}\n",
      "Epoch 150: 100%|██████████| 1/1 [00:00<00:00,  8.81it/s, v_num=0]train: {'epoch': 150, 'eta': 1.9036, 'loss': 0.0734, 'lr': 0.0014, 'params': 104256, 'time_iter': 0.0385, 'accuracy': 0.9832, 'precision': 0.9753, 'recall': 0.9915, 'f1': 0.9833, 'auc': 0.998}\n",
      "Epoch 151: 100%|██████████| 1/1 [00:00<00:00, 24.60it/s, v_num=0]val: {'epoch': 151, 'loss': 1.8089, 'lr': 0.0014, 'params': 104256, 'time_iter': 0.0168, 'accuracy': 0.6186, 'precision': 0.6076, 'recall': 0.6698, 'f1': 0.6372, 'auc': 0.6557}\n",
      "Epoch 151: 100%|██████████| 1/1 [00:00<00:00,  9.50it/s, v_num=0]train: {'epoch': 151, 'eta': 1.8649, 'loss': 0.0724, 'lr': 0.0014, 'params': 104256, 'time_iter': 0.0393, 'accuracy': 0.9832, 'precision': 0.976, 'recall': 0.9908, 'f1': 0.9833, 'auc': 0.9981}\n",
      "Epoch 152: 100%|██████████| 1/1 [00:00<00:00, 24.21it/s, v_num=0]val: {'epoch': 152, 'loss': 1.82, 'lr': 0.0013, 'params': 104256, 'time_iter': 0.0165, 'accuracy': 0.6214, 'precision': 0.61, 'recall': 0.6736, 'f1': 0.6402, 'auc': 0.6556}\n",
      "Epoch 152: 100%|██████████| 1/1 [00:00<00:00,  9.36it/s, v_num=0]train: {'epoch': 152, 'eta': 1.8264, 'loss': 0.0712, 'lr': 0.0013, 'params': 104256, 'time_iter': 0.04, 'accuracy': 0.9839, 'precision': 0.9767, 'recall': 0.9915, 'f1': 0.984, 'auc': 0.9981}\n",
      "Epoch 153: 100%|██████████| 1/1 [00:00<00:00, 25.29it/s, v_num=0]val: {'epoch': 153, 'loss': 1.8296, 'lr': 0.0012, 'params': 104256, 'time_iter': 0.0167, 'accuracy': 0.6214, 'precision': 0.6111, 'recall': 0.6679, 'f1': 0.6383, 'auc': 0.6555}\n",
      "Epoch 153: 100%|██████████| 1/1 [00:00<00:00,  9.45it/s, v_num=0]train: {'epoch': 153, 'eta': 1.7874, 'loss': 0.0701, 'lr': 0.0012, 'params': 104256, 'time_iter': 0.0382, 'accuracy': 0.9846, 'precision': 0.9776, 'recall': 0.992, 'f1': 0.9847, 'auc': 0.9982}\n",
      "Epoch 154: 100%|██████████| 1/1 [00:00<00:00, 24.44it/s, v_num=0]val: {'epoch': 154, 'loss': 1.8353, 'lr': 0.0012, 'params': 104256, 'time_iter': 0.0158, 'accuracy': 0.6205, 'precision': 0.6097, 'recall': 0.6698, 'f1': 0.6383, 'auc': 0.6551}\n",
      "Epoch 154: 100%|██████████| 1/1 [00:00<00:00,  8.99it/s, v_num=0]train: {'epoch': 154, 'eta': 1.7487, 'loss': 0.0692, 'lr': 0.0012, 'params': 104256, 'time_iter': 0.0396, 'accuracy': 0.985, 'precision': 0.9785, 'recall': 0.9917, 'f1': 0.9851, 'auc': 0.9983}\n",
      "Epoch 155: 100%|██████████| 1/1 [00:00<00:00, 24.30it/s, v_num=0]val: {'epoch': 155, 'loss': 1.844, 'lr': 0.0011, 'params': 104256, 'time_iter': 0.017, 'accuracy': 0.6233, 'precision': 0.6125, 'recall': 0.6717, 'f1': 0.6407, 'auc': 0.655}\n",
      "Epoch 155: 100%|██████████| 1/1 [00:00<00:00,  9.10it/s, v_num=0]train: {'epoch': 155, 'eta': 1.7102, 'loss': 0.0683, 'lr': 0.0011, 'params': 104256, 'time_iter': 0.0398, 'accuracy': 0.985, 'precision': 0.9785, 'recall': 0.9917, 'f1': 0.9851, 'auc': 0.9984}\n",
      "Epoch 156: 100%|██████████| 1/1 [00:00<00:00, 25.35it/s, v_num=0]val: {'epoch': 156, 'loss': 1.853, 'lr': 0.0011, 'params': 104256, 'time_iter': 0.0168, 'accuracy': 0.6262, 'precision': 0.6149, 'recall': 0.6755, 'f1': 0.6438, 'auc': 0.655}\n",
      "Epoch 156: 100%|██████████| 1/1 [00:00<00:00,  7.49it/s, v_num=0]train: {'epoch': 156, 'eta': 1.6711, 'loss': 0.0673, 'lr': 0.0011, 'params': 104256, 'time_iter': 0.0381, 'accuracy': 0.9857, 'precision': 0.9794, 'recall': 0.9922, 'f1': 0.9858, 'auc': 0.9984}\n",
      "Epoch 157: 100%|██████████| 1/1 [00:00<00:00, 24.54it/s, v_num=0]val: {'epoch': 157, 'loss': 1.8592, 'lr': 0.001, 'params': 104256, 'time_iter': 0.0164, 'accuracy': 0.6243, 'precision': 0.6131, 'recall': 0.6736, 'f1': 0.642, 'auc': 0.6546}\n",
      "Epoch 157: 100%|██████████| 1/1 [00:00<00:00,  9.40it/s, v_num=0]train: {'epoch': 157, 'eta': 1.6324, 'loss': 0.0666, 'lr': 0.001, 'params': 104256, 'time_iter': 0.0394, 'accuracy': 0.9853, 'precision': 0.9794, 'recall': 0.9915, 'f1': 0.9854, 'auc': 0.9985}\n",
      "Epoch 158: 100%|██████████| 1/1 [00:00<00:00, 25.09it/s, v_num=0]val: {'epoch': 158, 'loss': 1.8676, 'lr': 0.001, 'params': 104256, 'time_iter': 0.0154, 'accuracy': 0.6233, 'precision': 0.6128, 'recall': 0.6698, 'f1': 0.6401, 'auc': 0.6543}\n",
      "Epoch 158: 100%|██████████| 1/1 [00:00<00:00,  9.80it/s, v_num=0]train: {'epoch': 158, 'eta': 1.5934, 'loss': 0.0658, 'lr': 0.001, 'params': 104256, 'time_iter': 0.0385, 'accuracy': 0.9864, 'precision': 0.981, 'recall': 0.992, 'f1': 0.9865, 'auc': 0.9985}\n",
      "Epoch 159: 100%|██████████| 1/1 [00:00<00:00, 24.83it/s, v_num=0]val: {'epoch': 159, 'loss': 1.8734, 'lr': 0.001, 'params': 104256, 'time_iter': 0.0165, 'accuracy': 0.6224, 'precision': 0.6118, 'recall': 0.6698, 'f1': 0.6395, 'auc': 0.6537}\n",
      "Epoch 159: 100%|██████████| 1/1 [00:00<00:00,  9.68it/s, v_num=0]train: {'epoch': 159, 'eta': 1.5546, 'loss': 0.0651, 'lr': 0.001, 'params': 104256, 'time_iter': 0.039, 'accuracy': 0.9857, 'precision': 0.9803, 'recall': 0.9912, 'f1': 0.9858, 'auc': 0.9986}\n",
      "Epoch 160: 100%|██████████| 1/1 [00:00<00:00, 21.67it/s, v_num=0]val: {'epoch': 160, 'loss': 1.8797, 'lr': 0.0009, 'params': 104256, 'time_iter': 0.0176, 'accuracy': 0.6224, 'precision': 0.6118, 'recall': 0.6698, 'f1': 0.6395, 'auc': 0.6533}\n",
      "Epoch 160: 100%|██████████| 1/1 [00:00<00:00,  8.48it/s, v_num=0]train: {'epoch': 160, 'eta': 1.5171, 'loss': 0.0643, 'lr': 0.0009, 'params': 104256, 'time_iter': 0.0445, 'accuracy': 0.9865, 'precision': 0.981, 'recall': 0.9922, 'f1': 0.9866, 'auc': 0.9986}\n",
      "Epoch 161: 100%|██████████| 1/1 [00:00<00:00, 24.94it/s, v_num=0]val: {'epoch': 161, 'loss': 1.888, 'lr': 0.0009, 'params': 104256, 'time_iter': 0.016, 'accuracy': 0.6214, 'precision': 0.6107, 'recall': 0.6698, 'f1': 0.6389, 'auc': 0.6531}\n",
      "Epoch 161: 100%|██████████| 1/1 [00:00<00:00,  9.53it/s, v_num=0]train: {'epoch': 161, 'eta': 1.4782, 'loss': 0.0636, 'lr': 0.0009, 'params': 104256, 'time_iter': 0.0388, 'accuracy': 0.9871, 'precision': 0.9817, 'recall': 0.9927, 'f1': 0.9872, 'auc': 0.9987}\n",
      "Epoch 162: 100%|██████████| 1/1 [00:00<00:00, 25.27it/s, v_num=0]val: {'epoch': 162, 'loss': 1.8941, 'lr': 0.0008, 'params': 104256, 'time_iter': 0.0172, 'accuracy': 0.6214, 'precision': 0.6111, 'recall': 0.6679, 'f1': 0.6383, 'auc': 0.653}\n",
      "Epoch 162: 100%|██████████| 1/1 [00:00<00:00,  9.16it/s, v_num=0]train: {'epoch': 162, 'eta': 1.4391, 'loss': 0.0629, 'lr': 0.0008, 'params': 104256, 'time_iter': 0.0382, 'accuracy': 0.9875, 'precision': 0.9824, 'recall': 0.9927, 'f1': 0.9875, 'auc': 0.9987}\n",
      "Epoch 163: 100%|██████████| 1/1 [00:00<00:00, 23.96it/s, v_num=0]val: {'epoch': 163, 'loss': 1.898, 'lr': 0.0008, 'params': 104256, 'time_iter': 0.0165, 'accuracy': 0.6233, 'precision': 0.6128, 'recall': 0.6698, 'f1': 0.6401, 'auc': 0.6528}\n",
      "Epoch 163: 100%|██████████| 1/1 [00:00<00:00,  9.36it/s, v_num=0]train: {'epoch': 163, 'eta': 1.4006, 'loss': 0.0623, 'lr': 0.0008, 'params': 104256, 'time_iter': 0.0404, 'accuracy': 0.988, 'precision': 0.9831, 'recall': 0.9931, 'f1': 0.9881, 'auc': 0.9987}\n",
      "Epoch 164: 100%|██████████| 1/1 [00:00<00:00, 24.69it/s, v_num=0]val: {'epoch': 164, 'loss': 1.9033, 'lr': 0.0007, 'params': 104256, 'time_iter': 0.0162, 'accuracy': 0.6233, 'precision': 0.6128, 'recall': 0.6698, 'f1': 0.6401, 'auc': 0.6527}\n",
      "Epoch 164: 100%|██████████| 1/1 [00:00<00:00,  9.00it/s, v_num=0]train: {'epoch': 164, 'eta': 1.3617, 'loss': 0.0617, 'lr': 0.0007, 'params': 104256, 'time_iter': 0.0392, 'accuracy': 0.9883, 'precision': 0.9836, 'recall': 0.9931, 'f1': 0.9883, 'auc': 0.9988}\n",
      "Epoch 165: 100%|██████████| 1/1 [00:00<00:00, 25.28it/s, v_num=0]val: {'epoch': 165, 'loss': 1.9095, 'lr': 0.0007, 'params': 104256, 'time_iter': 0.0156, 'accuracy': 0.6233, 'precision': 0.6125, 'recall': 0.6717, 'f1': 0.6407, 'auc': 0.6527}\n",
      "Epoch 165: 100%|██████████| 1/1 [00:00<00:00, 10.75it/s, v_num=0]train: {'epoch': 165, 'eta': 1.3227, 'loss': 0.0611, 'lr': 0.0007, 'params': 104256, 'time_iter': 0.0382, 'accuracy': 0.9883, 'precision': 0.9834, 'recall': 0.9934, 'f1': 0.9883, 'auc': 0.9988}\n",
      "Epoch 166: 100%|██████████| 1/1 [00:00<00:00, 25.48it/s, v_num=0]val: {'epoch': 166, 'loss': 1.9147, 'lr': 0.0007, 'params': 104256, 'time_iter': 0.0181, 'accuracy': 0.6224, 'precision': 0.6118, 'recall': 0.6698, 'f1': 0.6395, 'auc': 0.6524}\n",
      "Epoch 166: 100%|██████████| 1/1 [00:00<00:00,  8.84it/s, v_num=0]train: {'epoch': 166, 'eta': 1.2836, 'loss': 0.0606, 'lr': 0.0007, 'params': 104256, 'time_iter': 0.0378, 'accuracy': 0.9882, 'precision': 0.9836, 'recall': 0.9929, 'f1': 0.9882, 'auc': 0.9988}\n",
      "Epoch 167: 100%|██████████| 1/1 [00:00<00:00, 24.42it/s, v_num=0]val: {'epoch': 167, 'loss': 1.9191, 'lr': 0.0006, 'params': 104256, 'time_iter': 0.0163, 'accuracy': 0.6224, 'precision': 0.6114, 'recall': 0.6717, 'f1': 0.6401, 'auc': 0.652}\n",
      "Epoch 167: 100%|██████████| 1/1 [00:00<00:00,  9.80it/s, v_num=0]train: {'epoch': 167, 'eta': 1.2448, 'loss': 0.0601, 'lr': 0.0006, 'params': 104256, 'time_iter': 0.0396, 'accuracy': 0.9882, 'precision': 0.9836, 'recall': 0.9929, 'f1': 0.9882, 'auc': 0.9989}\n",
      "Epoch 168: 100%|██████████| 1/1 [00:00<00:00, 24.79it/s, v_num=0]val: {'epoch': 168, 'loss': 1.9232, 'lr': 0.0006, 'params': 104256, 'time_iter': 0.0178, 'accuracy': 0.6243, 'precision': 0.6127, 'recall': 0.6755, 'f1': 0.6426, 'auc': 0.6518}\n",
      "Epoch 168: 100%|██████████| 1/1 [00:00<00:00,  8.96it/s, v_num=0]train: {'epoch': 168, 'eta': 1.2059, 'loss': 0.0596, 'lr': 0.0006, 'params': 104256, 'time_iter': 0.039, 'accuracy': 0.9883, 'precision': 0.9836, 'recall': 0.9931, 'f1': 0.9883, 'auc': 0.9989}\n",
      "Epoch 169: 100%|██████████| 1/1 [00:00<00:00, 23.79it/s, v_num=0]val: {'epoch': 169, 'loss': 1.9266, 'lr': 0.0005, 'params': 104256, 'time_iter': 0.0161, 'accuracy': 0.6233, 'precision': 0.6121, 'recall': 0.6736, 'f1': 0.6414, 'auc': 0.6516}\n",
      "Epoch 169: 100%|██████████| 1/1 [00:00<00:00,  9.37it/s, v_num=0]train: {'epoch': 169, 'eta': 1.1673, 'loss': 0.0592, 'lr': 0.0005, 'params': 104256, 'time_iter': 0.0407, 'accuracy': 0.9884, 'precision': 0.9838, 'recall': 0.9931, 'f1': 0.9885, 'auc': 0.9989}\n",
      "Epoch 170: 100%|██████████| 1/1 [00:00<00:00, 24.78it/s, v_num=0]val: {'epoch': 170, 'loss': 1.9293, 'lr': 0.0005, 'params': 104256, 'time_iter': 0.0165, 'accuracy': 0.6224, 'precision': 0.6114, 'recall': 0.6717, 'f1': 0.6401, 'auc': 0.6515}\n",
      "Epoch 170: 100%|██████████| 1/1 [00:00<00:00,  7.92it/s, v_num=0]train: {'epoch': 170, 'eta': 1.1285, 'loss': 0.0587, 'lr': 0.0005, 'params': 104256, 'time_iter': 0.039, 'accuracy': 0.9889, 'precision': 0.9845, 'recall': 0.9934, 'f1': 0.9889, 'auc': 0.999}\n",
      "Epoch 171: 100%|██████████| 1/1 [00:00<00:00, 23.91it/s, v_num=0]val: {'epoch': 171, 'loss': 1.9319, 'lr': 0.0005, 'params': 104256, 'time_iter': 0.0167, 'accuracy': 0.6224, 'precision': 0.6118, 'recall': 0.6698, 'f1': 0.6395, 'auc': 0.6514}\n",
      "Epoch 171: 100%|██████████| 1/1 [00:00<00:00,  7.01it/s, v_num=0]train: {'epoch': 171, 'eta': 1.0898, 'loss': 0.0584, 'lr': 0.0005, 'params': 104256, 'time_iter': 0.0405, 'accuracy': 0.9889, 'precision': 0.9845, 'recall': 0.9934, 'f1': 0.9889, 'auc': 0.999}\n",
      "Epoch 172: 100%|██████████| 1/1 [00:00<00:00, 24.41it/s, v_num=0]val: {'epoch': 172, 'loss': 1.9343, 'lr': 0.0004, 'params': 104256, 'time_iter': 0.0173, 'accuracy': 0.6233, 'precision': 0.6125, 'recall': 0.6717, 'f1': 0.6407, 'auc': 0.6513}\n",
      "Epoch 172: 100%|██████████| 1/1 [00:00<00:00,  7.23it/s, v_num=0]train: {'epoch': 172, 'eta': 1.051, 'loss': 0.058, 'lr': 0.0004, 'params': 104256, 'time_iter': 0.0396, 'accuracy': 0.989, 'precision': 0.9847, 'recall': 0.9934, 'f1': 0.989, 'auc': 0.999}\n",
      "Epoch 173: 100%|██████████| 1/1 [00:00<00:00, 25.39it/s, v_num=0]val: {'epoch': 173, 'loss': 1.9365, 'lr': 0.0004, 'params': 104256, 'time_iter': 0.0161, 'accuracy': 0.6224, 'precision': 0.6114, 'recall': 0.6717, 'f1': 0.6401, 'auc': 0.6514}\n",
      "Epoch 173: 100%|██████████| 1/1 [00:00<00:00,  9.08it/s, v_num=0]train: {'epoch': 173, 'eta': 1.0119, 'loss': 0.0576, 'lr': 0.0004, 'params': 104256, 'time_iter': 0.0381, 'accuracy': 0.9892, 'precision': 0.9852, 'recall': 0.9934, 'f1': 0.9893, 'auc': 0.999}\n",
      "Epoch 174: 100%|██████████| 1/1 [00:00<00:00, 20.04it/s, v_num=0]val: {'epoch': 174, 'loss': 1.9386, 'lr': 0.0004, 'params': 104256, 'time_iter': 0.019, 'accuracy': 0.6214, 'precision': 0.6107, 'recall': 0.6698, 'f1': 0.6389, 'auc': 0.6513}\n",
      "Epoch 174: 100%|██████████| 1/1 [00:00<00:00,  8.14it/s, v_num=0]train: {'epoch': 174, 'eta': 0.9744, 'loss': 0.0573, 'lr': 0.0004, 'params': 104256, 'time_iter': 0.0484, 'accuracy': 0.9892, 'precision': 0.9852, 'recall': 0.9934, 'f1': 0.9893, 'auc': 0.999}\n",
      "Epoch 175: 100%|██████████| 1/1 [00:00<00:00, 20.29it/s, v_num=0]val: {'epoch': 175, 'loss': 1.9407, 'lr': 0.0004, 'params': 104256, 'time_iter': 0.0192, 'accuracy': 0.6214, 'precision': 0.6107, 'recall': 0.6698, 'f1': 0.6389, 'auc': 0.6513}\n",
      "Epoch 175: 100%|██████████| 1/1 [00:00<00:00,  8.48it/s, v_num=0]train: {'epoch': 175, 'eta': 0.9366, 'loss': 0.057, 'lr': 0.0004, 'params': 104256, 'time_iter': 0.0478, 'accuracy': 0.9892, 'precision': 0.9854, 'recall': 0.9931, 'f1': 0.9893, 'auc': 0.999}\n",
      "Epoch 176: 100%|██████████| 1/1 [00:00<00:00, 20.74it/s, v_num=0]val: {'epoch': 176, 'loss': 1.9425, 'lr': 0.0003, 'params': 104256, 'time_iter': 0.0191, 'accuracy': 0.6214, 'precision': 0.6107, 'recall': 0.6698, 'f1': 0.6389, 'auc': 0.6513}\n",
      "Epoch 176: 100%|██████████| 1/1 [00:00<00:00,  7.15it/s, v_num=0]train: {'epoch': 176, 'eta': 0.8986, 'loss': 0.0568, 'lr': 0.0003, 'params': 104256, 'time_iter': 0.0466, 'accuracy': 0.9895, 'precision': 0.9859, 'recall': 0.9931, 'f1': 0.9895, 'auc': 0.9991}\n",
      "Epoch 177: 100%|██████████| 1/1 [00:00<00:00, 19.38it/s, v_num=0]val: {'epoch': 177, 'loss': 1.9441, 'lr': 0.0003, 'params': 104256, 'time_iter': 0.0204, 'accuracy': 0.6214, 'precision': 0.6107, 'recall': 0.6698, 'f1': 0.6389, 'auc': 0.6513}\n",
      "Epoch 177: 100%|██████████| 1/1 [00:00<00:00,  8.43it/s, v_num=0]train: {'epoch': 177, 'eta': 0.8607, 'loss': 0.0565, 'lr': 0.0003, 'params': 104256, 'time_iter': 0.0488, 'accuracy': 0.9893, 'precision': 0.9857, 'recall': 0.9931, 'f1': 0.9894, 'auc': 0.9991}\n",
      "Epoch 178: 100%|██████████| 1/1 [00:00<00:00, 20.68it/s, v_num=0]val: {'epoch': 178, 'loss': 1.9455, 'lr': 0.0003, 'params': 104256, 'time_iter': 0.0193, 'accuracy': 0.6214, 'precision': 0.6107, 'recall': 0.6698, 'f1': 0.6389, 'auc': 0.6512}\n",
      "Epoch 178: 100%|██████████| 1/1 [00:00<00:00,  6.68it/s, v_num=0]train: {'epoch': 178, 'eta': 0.8225, 'loss': 0.0563, 'lr': 0.0003, 'params': 104256, 'time_iter': 0.0469, 'accuracy': 0.9897, 'precision': 0.9861, 'recall': 0.9934, 'f1': 0.9897, 'auc': 0.9991}\n",
      "Epoch 179: 100%|██████████| 1/1 [00:00<00:00, 20.79it/s, v_num=0]val: {'epoch': 179, 'loss': 1.947, 'lr': 0.0002, 'params': 104256, 'time_iter': 0.0193, 'accuracy': 0.6214, 'precision': 0.6107, 'recall': 0.6698, 'f1': 0.6389, 'auc': 0.6511}\n",
      "Epoch 179: 100%|██████████| 1/1 [00:00<00:00,  8.50it/s, v_num=0]train: {'epoch': 179, 'eta': 0.7841, 'loss': 0.0561, 'lr': 0.0002, 'params': 104256, 'time_iter': 0.0466, 'accuracy': 0.9898, 'precision': 0.9864, 'recall': 0.9934, 'f1': 0.9899, 'auc': 0.9991}\n",
      "Epoch 180: 100%|██████████| 1/1 [00:00<00:00, 20.39it/s, v_num=0]val: {'epoch': 180, 'loss': 1.9484, 'lr': 0.0002, 'params': 104256, 'time_iter': 0.0199, 'accuracy': 0.6214, 'precision': 0.6107, 'recall': 0.6698, 'f1': 0.6389, 'auc': 0.651}\n",
      "Epoch 180: 100%|██████████| 1/1 [00:00<00:00,  8.60it/s, v_num=0]train: {'epoch': 180, 'eta': 0.7458, 'loss': 0.0559, 'lr': 0.0002, 'params': 104256, 'time_iter': 0.0474, 'accuracy': 0.9898, 'precision': 0.9864, 'recall': 0.9934, 'f1': 0.9899, 'auc': 0.9991}\n",
      "Epoch 181: 100%|██████████| 1/1 [00:00<00:00, 20.75it/s, v_num=0]val: {'epoch': 181, 'loss': 1.9498, 'lr': 0.0002, 'params': 104256, 'time_iter': 0.0201, 'accuracy': 0.6224, 'precision': 0.6118, 'recall': 0.6698, 'f1': 0.6395, 'auc': 0.6511}\n",
      "Epoch 181: 100%|██████████| 1/1 [00:00<00:00,  6.29it/s, v_num=0]train: {'epoch': 181, 'eta': 0.7073, 'loss': 0.0557, 'lr': 0.0002, 'params': 104256, 'time_iter': 0.0469, 'accuracy': 0.9898, 'precision': 0.9861, 'recall': 0.9936, 'f1': 0.9899, 'auc': 0.9991}\n",
      "Epoch 182: 100%|██████████| 1/1 [00:00<00:00, 20.22it/s, v_num=0]val: {'epoch': 182, 'loss': 1.9509, 'lr': 0.0002, 'params': 104256, 'time_iter': 0.0207, 'accuracy': 0.6224, 'precision': 0.6118, 'recall': 0.6698, 'f1': 0.6395, 'auc': 0.6511}\n",
      "Epoch 182: 100%|██████████| 1/1 [00:00<00:00,  8.63it/s, v_num=0]train: {'epoch': 182, 'eta': 0.6688, 'loss': 0.0556, 'lr': 0.0002, 'params': 104256, 'time_iter': 0.0481, 'accuracy': 0.9898, 'precision': 0.9861, 'recall': 0.9936, 'f1': 0.9899, 'auc': 0.9991}\n",
      "Epoch 183: 100%|██████████| 1/1 [00:00<00:00, 20.17it/s, v_num=0]val: {'epoch': 183, 'loss': 1.9518, 'lr': 0.0002, 'params': 104256, 'time_iter': 0.019, 'accuracy': 0.6214, 'precision': 0.6111, 'recall': 0.6679, 'f1': 0.6383, 'auc': 0.6511}\n",
      "Epoch 183: 100%|██████████| 1/1 [00:00<00:00,  9.14it/s, v_num=0]train: {'epoch': 183, 'eta': 0.6302, 'loss': 0.0554, 'lr': 0.0002, 'params': 104256, 'time_iter': 0.0481, 'accuracy': 0.9899, 'precision': 0.9864, 'recall': 0.9936, 'f1': 0.99, 'auc': 0.9991}\n",
      "Epoch 184: 100%|██████████| 1/1 [00:00<00:00, 20.25it/s, v_num=0]val: {'epoch': 184, 'loss': 1.9525, 'lr': 0.0001, 'params': 104256, 'time_iter': 0.0189, 'accuracy': 0.6214, 'precision': 0.6111, 'recall': 0.6679, 'f1': 0.6383, 'auc': 0.6511}\n",
      "Epoch 184: 100%|██████████| 1/1 [00:00<00:00,  8.61it/s, v_num=0]train: {'epoch': 184, 'eta': 0.5915, 'loss': 0.0553, 'lr': 0.0001, 'params': 104256, 'time_iter': 0.0478, 'accuracy': 0.9899, 'precision': 0.9864, 'recall': 0.9936, 'f1': 0.99, 'auc': 0.9991}\n",
      "Epoch 185: 100%|██████████| 1/1 [00:00<00:00, 20.66it/s, v_num=0]val: {'epoch': 185, 'loss': 1.9531, 'lr': 0.0001, 'params': 104256, 'time_iter': 0.0192, 'accuracy': 0.6214, 'precision': 0.6111, 'recall': 0.6679, 'f1': 0.6383, 'auc': 0.6511}\n",
      "Epoch 185: 100%|██████████| 1/1 [00:00<00:00,  8.94it/s, v_num=0]train: {'epoch': 185, 'eta': 0.5527, 'loss': 0.0552, 'lr': 0.0001, 'params': 104256, 'time_iter': 0.047, 'accuracy': 0.9899, 'precision': 0.9864, 'recall': 0.9936, 'f1': 0.99, 'auc': 0.9991}\n",
      "Epoch 186: 100%|██████████| 1/1 [00:00<00:00, 20.29it/s, v_num=0]val: {'epoch': 186, 'loss': 1.9537, 'lr': 0.0001, 'params': 104256, 'time_iter': 0.0192, 'accuracy': 0.6214, 'precision': 0.6111, 'recall': 0.6679, 'f1': 0.6383, 'auc': 0.6512}\n",
      "Epoch 186: 100%|██████████| 1/1 [00:00<00:00,  8.48it/s, v_num=0]train: {'epoch': 186, 'eta': 0.5138, 'loss': 0.0551, 'lr': 0.0001, 'params': 104256, 'time_iter': 0.0478, 'accuracy': 0.9899, 'precision': 0.9864, 'recall': 0.9936, 'f1': 0.99, 'auc': 0.9991}\n",
      "Epoch 187: 100%|██████████| 1/1 [00:00<00:00, 20.32it/s, v_num=0]val: {'epoch': 187, 'loss': 1.9543, 'lr': 0.0001, 'params': 104256, 'time_iter': 0.0195, 'accuracy': 0.6214, 'precision': 0.6111, 'recall': 0.6679, 'f1': 0.6383, 'auc': 0.6512}\n",
      "Epoch 187: 100%|██████████| 1/1 [00:00<00:00,  8.80it/s, v_num=0]train: {'epoch': 187, 'eta': 0.4748, 'loss': 0.055, 'lr': 0.0001, 'params': 104256, 'time_iter': 0.0477, 'accuracy': 0.9899, 'precision': 0.9864, 'recall': 0.9936, 'f1': 0.99, 'auc': 0.9992}\n",
      "Epoch 188: 100%|██████████| 1/1 [00:00<00:00, 20.32it/s, v_num=0]val: {'epoch': 188, 'loss': 1.9548, 'lr': 0.0001, 'params': 104256, 'time_iter': 0.0189, 'accuracy': 0.6214, 'precision': 0.6111, 'recall': 0.6679, 'f1': 0.6383, 'auc': 0.6511}\n",
      "Epoch 188: 100%|██████████| 1/1 [00:00<00:00,  8.28it/s, v_num=0]train: {'epoch': 188, 'eta': 0.4357, 'loss': 0.0549, 'lr': 0.0001, 'params': 104256, 'time_iter': 0.0477, 'accuracy': 0.9899, 'precision': 0.9864, 'recall': 0.9936, 'f1': 0.99, 'auc': 0.9992}\n",
      "Epoch 189: 100%|██████████| 1/1 [00:00<00:00, 20.66it/s, v_num=0]val: {'epoch': 189, 'loss': 1.9553, 'lr': 0.0001, 'params': 104256, 'time_iter': 0.0197, 'accuracy': 0.6214, 'precision': 0.6111, 'recall': 0.6679, 'f1': 0.6383, 'auc': 0.6511}\n",
      "Epoch 189: 100%|██████████| 1/1 [00:00<00:00,  8.60it/s, v_num=0]train: {'epoch': 189, 'eta': 0.3965, 'loss': 0.0549, 'lr': 0.0001, 'params': 104256, 'time_iter': 0.0469, 'accuracy': 0.9899, 'precision': 0.9864, 'recall': 0.9936, 'f1': 0.99, 'auc': 0.9992}\n",
      "Epoch 190: 100%|██████████| 1/1 [00:00<00:00, 20.46it/s, v_num=0]val: {'epoch': 190, 'loss': 1.9556, 'lr': 0.0, 'params': 104256, 'time_iter': 0.0191, 'accuracy': 0.6224, 'precision': 0.6122, 'recall': 0.6679, 'f1': 0.6388, 'auc': 0.6511}\n",
      "Epoch 190: 100%|██████████| 1/1 [00:00<00:00,  8.43it/s, v_num=0]train: {'epoch': 190, 'eta': 0.3572, 'loss': 0.0548, 'lr': 0.0, 'params': 104256, 'time_iter': 0.0474, 'accuracy': 0.9899, 'precision': 0.9864, 'recall': 0.9936, 'f1': 0.99, 'auc': 0.9992}\n",
      "Epoch 191: 100%|██████████| 1/1 [00:00<00:00, 21.08it/s, v_num=0]val: {'epoch': 191, 'loss': 1.9559, 'lr': 0.0, 'params': 104256, 'time_iter': 0.0192, 'accuracy': 0.6224, 'precision': 0.6122, 'recall': 0.6679, 'f1': 0.6388, 'auc': 0.6511}\n",
      "Epoch 191: 100%|██████████| 1/1 [00:00<00:00,  8.92it/s, v_num=0]train: {'epoch': 191, 'eta': 0.3177, 'loss': 0.0548, 'lr': 0.0, 'params': 104256, 'time_iter': 0.0459, 'accuracy': 0.9899, 'precision': 0.9864, 'recall': 0.9936, 'f1': 0.99, 'auc': 0.9992}\n",
      "Epoch 192: 100%|██████████| 1/1 [00:00<00:00, 20.88it/s, v_num=0]val: {'epoch': 192, 'loss': 1.9561, 'lr': 0.0, 'params': 104256, 'time_iter': 0.0196, 'accuracy': 0.6224, 'precision': 0.6122, 'recall': 0.6679, 'f1': 0.6388, 'auc': 0.6511}\n",
      "Epoch 192: 100%|██████████| 1/1 [00:00<00:00,  8.56it/s, v_num=0]train: {'epoch': 192, 'eta': 0.2783, 'loss': 0.0547, 'lr': 0.0, 'params': 104256, 'time_iter': 0.0464, 'accuracy': 0.9899, 'precision': 0.9864, 'recall': 0.9936, 'f1': 0.99, 'auc': 0.9992}\n",
      "Epoch 193: 100%|██████████| 1/1 [00:00<00:00, 20.79it/s, v_num=0]val: {'epoch': 193, 'loss': 1.9562, 'lr': 0.0, 'params': 104256, 'time_iter': 0.0191, 'accuracy': 0.6224, 'precision': 0.6122, 'recall': 0.6679, 'f1': 0.6388, 'auc': 0.6511}\n",
      "Epoch 193: 100%|██████████| 1/1 [00:00<00:00,  8.24it/s, v_num=0]train: {'epoch': 193, 'eta': 0.2387, 'loss': 0.0547, 'lr': 0.0, 'params': 104256, 'time_iter': 0.0465, 'accuracy': 0.9899, 'precision': 0.9864, 'recall': 0.9936, 'f1': 0.99, 'auc': 0.9992}\n",
      "Epoch 194: 100%|██████████| 1/1 [00:00<00:00, 20.62it/s, v_num=0]val: {'epoch': 194, 'loss': 1.9564, 'lr': 0.0, 'params': 104256, 'time_iter': 0.0197, 'accuracy': 0.6224, 'precision': 0.6122, 'recall': 0.6679, 'f1': 0.6388, 'auc': 0.6511}\n",
      "Epoch 194: 100%|██████████| 1/1 [00:00<00:00,  8.99it/s, v_num=0]train: {'epoch': 194, 'eta': 0.1991, 'loss': 0.0547, 'lr': 0.0, 'params': 104256, 'time_iter': 0.047, 'accuracy': 0.9899, 'precision': 0.9864, 'recall': 0.9936, 'f1': 0.99, 'auc': 0.9992}\n",
      "Epoch 195: 100%|██████████| 1/1 [00:00<00:00, 19.95it/s, v_num=0]val: {'epoch': 195, 'loss': 1.9564, 'lr': 0.0, 'params': 104256, 'time_iter': 0.019, 'accuracy': 0.6224, 'precision': 0.6122, 'recall': 0.6679, 'f1': 0.6388, 'auc': 0.6511}\n",
      "Epoch 195: 100%|██████████| 1/1 [00:00<00:00,  8.59it/s, v_num=0]train: {'epoch': 195, 'eta': 0.1595, 'loss': 0.0546, 'lr': 0.0, 'params': 104256, 'time_iter': 0.0487, 'accuracy': 0.9899, 'precision': 0.9864, 'recall': 0.9936, 'f1': 0.99, 'auc': 0.9992}\n",
      "Epoch 196: 100%|██████████| 1/1 [00:00<00:00, 20.14it/s, v_num=0]val: {'epoch': 196, 'loss': 1.9565, 'lr': 0.0, 'params': 104256, 'time_iter': 0.0192, 'accuracy': 0.6224, 'precision': 0.6122, 'recall': 0.6679, 'f1': 0.6388, 'auc': 0.6511}\n",
      "Epoch 196: 100%|██████████| 1/1 [00:00<00:00,  8.85it/s, v_num=0]train: {'epoch': 196, 'eta': 0.1197, 'loss': 0.0546, 'lr': 0.0, 'params': 104256, 'time_iter': 0.0482, 'accuracy': 0.9899, 'precision': 0.9864, 'recall': 0.9936, 'f1': 0.99, 'auc': 0.9992}\n",
      "Epoch 197: 100%|██████████| 1/1 [00:00<00:00, 20.68it/s, v_num=0]val: {'epoch': 197, 'loss': 1.9565, 'lr': 0.0, 'params': 104256, 'time_iter': 0.0196, 'accuracy': 0.6224, 'precision': 0.6122, 'recall': 0.6679, 'f1': 0.6388, 'auc': 0.6511}\n",
      "Epoch 197: 100%|██████████| 1/1 [00:00<00:00,  8.83it/s, v_num=0]train: {'epoch': 197, 'eta': 0.0799, 'loss': 0.0546, 'lr': 0.0, 'params': 104256, 'time_iter': 0.0469, 'accuracy': 0.9899, 'precision': 0.9864, 'recall': 0.9936, 'f1': 0.99, 'auc': 0.9992}\n",
      "Epoch 198: 100%|██████████| 1/1 [00:00<00:00, 20.67it/s, v_num=0]val: {'epoch': 198, 'loss': 1.9565, 'lr': 0.0, 'params': 104256, 'time_iter': 0.019, 'accuracy': 0.6224, 'precision': 0.6122, 'recall': 0.6679, 'f1': 0.6388, 'auc': 0.6511}\n",
      "Epoch 198: 100%|██████████| 1/1 [00:00<00:00,  8.67it/s, v_num=0]train: {'epoch': 198, 'eta': 0.04, 'loss': 0.0546, 'lr': 0.0, 'params': 104256, 'time_iter': 0.0469, 'accuracy': 0.9899, 'precision': 0.9864, 'recall': 0.9936, 'f1': 0.99, 'auc': 0.9992}\n",
      "Epoch 199: 100%|██████████| 1/1 [00:00<00:00, 20.90it/s, v_num=0]val: {'epoch': 199, 'loss': 1.9565, 'lr': 0.0, 'params': 104256, 'time_iter': 0.0196, 'accuracy': 0.6224, 'precision': 0.6122, 'recall': 0.6679, 'f1': 0.6388, 'auc': 0.6511}\n",
      "Epoch 199: 100%|██████████| 1/1 [00:00<00:00,  8.52it/s, v_num=0]train: {'epoch': 199, 'eta': 0.0, 'loss': 0.0546, 'lr': 0.0, 'params': 104256, 'time_iter': 0.0464, 'accuracy': 0.9899, 'precision': 0.9864, 'recall': 0.9936, 'f1': 0.99, 'auc': 0.9992}\n",
      "Epoch 199: 100%|██████████| 1/1 [00:00<00:00,  5.78it/s, v_num=0]"
     ]
    },
    {
     "name": "stderr",
     "output_type": "stream",
     "text": [
      "`Trainer.fit` stopped: `max_epochs=200` reached.\n"
     ]
    },
    {
     "name": "stdout",
     "output_type": "stream",
     "text": [
      "Epoch 199: 100%|██████████| 1/1 [00:00<00:00,  4.16it/s, v_num=0]\n"
     ]
    },
    {
     "name": "stderr",
     "output_type": "stream",
     "text": [
      "/home/stu13/s18/lb9849/miniconda3/envs/pyg/lib/python3.9/site-packages/pytorch_lightning/trainer/connectors/data_connector.py:441: The 'test_dataloader' does not have many workers which may be a bottleneck. Consider increasing the value of the `num_workers` argument` to `num_workers=47` in the `DataLoader` to improve performance.\n"
     ]
    },
    {
     "name": "stdout",
     "output_type": "stream",
     "text": [
      "Testing DataLoader 0: 100%|██████████| 1/1 [00:00<00:00, 89.79it/s]test: {'epoch': 200, 'loss': 1.9314, 'lr': 0.0, 'params': 104256, 'time_iter': 0.0173, 'accuracy': 0.6252, 'precision': 0.6154, 'recall': 0.6679, 'f1': 0.6406, 'auc': 0.6554}\n",
      "Testing DataLoader 0: 100%|██████████| 1/1 [00:00<00:00, 21.91it/s]\n"
     ]
    }
   ],
   "source": [
    "# Call the custom training function\n",
    "register.train_dict[\"train_pl\"](model, datamodule, logger=True)"
   ]
  },
  {
   "cell_type": "code",
   "execution_count": null,
   "metadata": {},
   "outputs": [],
   "source": []
  }
 ],
 "metadata": {
  "kernelspec": {
   "display_name": "pyg",
   "language": "python",
   "name": "python3"
  },
  "language_info": {
   "codemirror_mode": {
    "name": "ipython",
    "version": 3
   },
   "file_extension": ".py",
   "mimetype": "text/x-python",
   "name": "python",
   "nbconvert_exporter": "python",
   "pygments_lexer": "ipython3",
   "version": "3.9.18"
  }
 },
 "nbformat": 4,
 "nbformat_minor": 2
}
